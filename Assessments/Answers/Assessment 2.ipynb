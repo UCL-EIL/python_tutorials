{
 "cells": [
  {
   "cell_type": "markdown",
   "metadata": {},
   "source": [
    "# Distribution Fitting with Python Scipy"
   ]
  },
  {
   "cell_type": "markdown",
   "metadata": {},
   "source": [
    "The following code is taken from an online [blog post](https://medium.com/@amirarsalan.rajabi/distribution-fitting-with-python-scipy-bb70a42c0aed) "
   ]
  },
  {
   "cell_type": "markdown",
   "metadata": {},
   "source": [
    "You have a datastet, a repeated measurement of a variable, and you want to know which probability distribution this variable might come from. Fitting your data to the right distribution is valuable and might give you some insight about it. SciPy is a Python library with many mathematical and statistical tools ready to be used and applied to your data."
   ]
  },
  {
   "cell_type": "markdown",
   "metadata": {},
   "source": [
    "In order to start the task, we take Dow Jones Index Data Set as an example which is publicly available [here](http://archive.ics.uci.edu/ml/datasets/Dow+Jones+Index). after downloading the dataset, you can import the data with Pandas:"
   ]
  },
  {
   "cell_type": "code",
   "execution_count": 3,
   "metadata": {},
   "outputs": [],
   "source": [
    "import pandas as pd \n",
    "import matplotlib.pyplot as plt \n",
    "from six.moves import urllib\n",
    "import zipfile\n",
    "from scipy import stats\n",
    "import numpy as np"
   ]
  },
  {
   "cell_type": "code",
   "execution_count": 4,
   "metadata": {},
   "outputs": [],
   "source": [
    "import warnings\n",
    "warnings.filterwarnings(\"ignore\")"
   ]
  },
  {
   "cell_type": "code",
   "execution_count": 5,
   "metadata": {},
   "outputs": [
    {
     "data": {
      "text/plain": [
       "('file.zip', <http.client.HTTPMessage at 0x174ff986c10>)"
      ]
     },
     "execution_count": 5,
     "metadata": {},
     "output_type": "execute_result"
    }
   ],
   "source": [
    "urllib.request.urlretrieve(\"http://archive.ics.uci.edu/ml/machine-learning-databases/00312/dow_jones_index.zip\",\"file.zip\")"
   ]
  },
  {
   "cell_type": "code",
   "execution_count": 6,
   "metadata": {},
   "outputs": [],
   "source": [
    "zipfile.ZipFile(\"file.zip\").extractall()"
   ]
  },
  {
   "cell_type": "code",
   "execution_count": 7,
   "metadata": {},
   "outputs": [
    {
     "data": {
      "text/html": [
       "<div>\n",
       "<style scoped>\n",
       "    .dataframe tbody tr th:only-of-type {\n",
       "        vertical-align: middle;\n",
       "    }\n",
       "\n",
       "    .dataframe tbody tr th {\n",
       "        vertical-align: top;\n",
       "    }\n",
       "\n",
       "    .dataframe thead th {\n",
       "        text-align: right;\n",
       "    }\n",
       "</style>\n",
       "<table border=\"1\" class=\"dataframe\">\n",
       "  <thead>\n",
       "    <tr style=\"text-align: right;\">\n",
       "      <th></th>\n",
       "      <th>quarter</th>\n",
       "      <th>stock</th>\n",
       "      <th>date</th>\n",
       "      <th>open</th>\n",
       "      <th>high</th>\n",
       "      <th>low</th>\n",
       "      <th>close</th>\n",
       "      <th>volume</th>\n",
       "      <th>percent_change_price</th>\n",
       "      <th>percent_change_volume_over_last_wk</th>\n",
       "      <th>previous_weeks_volume</th>\n",
       "      <th>next_weeks_open</th>\n",
       "      <th>next_weeks_close</th>\n",
       "      <th>percent_change_next_weeks_price</th>\n",
       "      <th>days_to_next_dividend</th>\n",
       "      <th>percent_return_next_dividend</th>\n",
       "    </tr>\n",
       "  </thead>\n",
       "  <tbody>\n",
       "    <tr>\n",
       "      <th>0</th>\n",
       "      <td>1</td>\n",
       "      <td>AA</td>\n",
       "      <td>1/7/2011</td>\n",
       "      <td>$15.82</td>\n",
       "      <td>$16.72</td>\n",
       "      <td>$15.78</td>\n",
       "      <td>$16.42</td>\n",
       "      <td>239655616</td>\n",
       "      <td>3.79267</td>\n",
       "      <td>NaN</td>\n",
       "      <td>NaN</td>\n",
       "      <td>$16.71</td>\n",
       "      <td>$15.97</td>\n",
       "      <td>-4.428490</td>\n",
       "      <td>26</td>\n",
       "      <td>0.182704</td>\n",
       "    </tr>\n",
       "    <tr>\n",
       "      <th>1</th>\n",
       "      <td>1</td>\n",
       "      <td>AA</td>\n",
       "      <td>1/14/2011</td>\n",
       "      <td>$16.71</td>\n",
       "      <td>$16.71</td>\n",
       "      <td>$15.64</td>\n",
       "      <td>$15.97</td>\n",
       "      <td>242963398</td>\n",
       "      <td>-4.42849</td>\n",
       "      <td>1.380223</td>\n",
       "      <td>239655616.0</td>\n",
       "      <td>$16.19</td>\n",
       "      <td>$15.79</td>\n",
       "      <td>-2.470660</td>\n",
       "      <td>19</td>\n",
       "      <td>0.187852</td>\n",
       "    </tr>\n",
       "    <tr>\n",
       "      <th>2</th>\n",
       "      <td>1</td>\n",
       "      <td>AA</td>\n",
       "      <td>1/21/2011</td>\n",
       "      <td>$16.19</td>\n",
       "      <td>$16.38</td>\n",
       "      <td>$15.60</td>\n",
       "      <td>$15.79</td>\n",
       "      <td>138428495</td>\n",
       "      <td>-2.47066</td>\n",
       "      <td>-43.024959</td>\n",
       "      <td>242963398.0</td>\n",
       "      <td>$15.87</td>\n",
       "      <td>$16.13</td>\n",
       "      <td>1.638310</td>\n",
       "      <td>12</td>\n",
       "      <td>0.189994</td>\n",
       "    </tr>\n",
       "    <tr>\n",
       "      <th>3</th>\n",
       "      <td>1</td>\n",
       "      <td>AA</td>\n",
       "      <td>1/28/2011</td>\n",
       "      <td>$15.87</td>\n",
       "      <td>$16.63</td>\n",
       "      <td>$15.82</td>\n",
       "      <td>$16.13</td>\n",
       "      <td>151379173</td>\n",
       "      <td>1.63831</td>\n",
       "      <td>9.355500</td>\n",
       "      <td>138428495.0</td>\n",
       "      <td>$16.18</td>\n",
       "      <td>$17.14</td>\n",
       "      <td>5.933250</td>\n",
       "      <td>5</td>\n",
       "      <td>0.185989</td>\n",
       "    </tr>\n",
       "    <tr>\n",
       "      <th>4</th>\n",
       "      <td>1</td>\n",
       "      <td>AA</td>\n",
       "      <td>2/4/2011</td>\n",
       "      <td>$16.18</td>\n",
       "      <td>$17.39</td>\n",
       "      <td>$16.18</td>\n",
       "      <td>$17.14</td>\n",
       "      <td>154387761</td>\n",
       "      <td>5.93325</td>\n",
       "      <td>1.987452</td>\n",
       "      <td>151379173.0</td>\n",
       "      <td>$17.33</td>\n",
       "      <td>$17.37</td>\n",
       "      <td>0.230814</td>\n",
       "      <td>97</td>\n",
       "      <td>0.175029</td>\n",
       "    </tr>\n",
       "  </tbody>\n",
       "</table>\n",
       "</div>"
      ],
      "text/plain": [
       "   quarter stock       date    open    high     low   close     volume  \\\n",
       "0        1    AA   1/7/2011  $15.82  $16.72  $15.78  $16.42  239655616   \n",
       "1        1    AA  1/14/2011  $16.71  $16.71  $15.64  $15.97  242963398   \n",
       "2        1    AA  1/21/2011  $16.19  $16.38  $15.60  $15.79  138428495   \n",
       "3        1    AA  1/28/2011  $15.87  $16.63  $15.82  $16.13  151379173   \n",
       "4        1    AA   2/4/2011  $16.18  $17.39  $16.18  $17.14  154387761   \n",
       "\n",
       "   percent_change_price  percent_change_volume_over_last_wk  \\\n",
       "0               3.79267                                 NaN   \n",
       "1              -4.42849                            1.380223   \n",
       "2              -2.47066                          -43.024959   \n",
       "3               1.63831                            9.355500   \n",
       "4               5.93325                            1.987452   \n",
       "\n",
       "   previous_weeks_volume next_weeks_open next_weeks_close  \\\n",
       "0                    NaN          $16.71           $15.97   \n",
       "1            239655616.0          $16.19           $15.79   \n",
       "2            242963398.0          $15.87           $16.13   \n",
       "3            138428495.0          $16.18           $17.14   \n",
       "4            151379173.0          $17.33           $17.37   \n",
       "\n",
       "   percent_change_next_weeks_price  days_to_next_dividend  \\\n",
       "0                        -4.428490                     26   \n",
       "1                        -2.470660                     19   \n",
       "2                         1.638310                     12   \n",
       "3                         5.933250                      5   \n",
       "4                         0.230814                     97   \n",
       "\n",
       "   percent_return_next_dividend  \n",
       "0                      0.182704  \n",
       "1                      0.187852  \n",
       "2                      0.189994  \n",
       "3                      0.185989  \n",
       "4                      0.175029  "
      ]
     },
     "execution_count": 7,
     "metadata": {},
     "output_type": "execute_result"
    }
   ],
   "source": [
    "df = pd.read_csv(\"dow_jones_index.data\")\n",
    "df.head()"
   ]
  },
  {
   "cell_type": "markdown",
   "metadata": {},
   "source": [
    "This is a weekly dataset of Dow Jones Index. Those dollar signs are getting on my nerves, so I delete them by applying a function to my pandas columns:"
   ]
  },
  {
   "cell_type": "code",
   "execution_count": 8,
   "metadata": {},
   "outputs": [],
   "source": [
    "def omit_s(x):\n",
    "    return x[1:]\n",
    "df['high'] = df['high'].apply(omit_s)\n",
    "df['low'] = df['low'].apply(omit_s)\n",
    "df['open'] = df['open'].apply(omit_s)\n",
    "df['close'] = df['close'].apply(omit_s)"
   ]
  },
  {
   "cell_type": "code",
   "execution_count": 9,
   "metadata": {},
   "outputs": [
    {
     "data": {
      "text/html": [
       "<div>\n",
       "<style scoped>\n",
       "    .dataframe tbody tr th:only-of-type {\n",
       "        vertical-align: middle;\n",
       "    }\n",
       "\n",
       "    .dataframe tbody tr th {\n",
       "        vertical-align: top;\n",
       "    }\n",
       "\n",
       "    .dataframe thead th {\n",
       "        text-align: right;\n",
       "    }\n",
       "</style>\n",
       "<table border=\"1\" class=\"dataframe\">\n",
       "  <thead>\n",
       "    <tr style=\"text-align: right;\">\n",
       "      <th></th>\n",
       "      <th>quarter</th>\n",
       "      <th>stock</th>\n",
       "      <th>date</th>\n",
       "      <th>open</th>\n",
       "      <th>high</th>\n",
       "      <th>low</th>\n",
       "      <th>close</th>\n",
       "      <th>volume</th>\n",
       "      <th>percent_change_price</th>\n",
       "      <th>percent_change_volume_over_last_wk</th>\n",
       "      <th>previous_weeks_volume</th>\n",
       "      <th>next_weeks_open</th>\n",
       "      <th>next_weeks_close</th>\n",
       "      <th>percent_change_next_weeks_price</th>\n",
       "      <th>days_to_next_dividend</th>\n",
       "      <th>percent_return_next_dividend</th>\n",
       "    </tr>\n",
       "  </thead>\n",
       "  <tbody>\n",
       "    <tr>\n",
       "      <th>0</th>\n",
       "      <td>1</td>\n",
       "      <td>AA</td>\n",
       "      <td>1/7/2011</td>\n",
       "      <td>15.82</td>\n",
       "      <td>16.72</td>\n",
       "      <td>15.78</td>\n",
       "      <td>16.42</td>\n",
       "      <td>239655616</td>\n",
       "      <td>3.79267</td>\n",
       "      <td>NaN</td>\n",
       "      <td>NaN</td>\n",
       "      <td>$16.71</td>\n",
       "      <td>$15.97</td>\n",
       "      <td>-4.428490</td>\n",
       "      <td>26</td>\n",
       "      <td>0.182704</td>\n",
       "    </tr>\n",
       "    <tr>\n",
       "      <th>1</th>\n",
       "      <td>1</td>\n",
       "      <td>AA</td>\n",
       "      <td>1/14/2011</td>\n",
       "      <td>16.71</td>\n",
       "      <td>16.71</td>\n",
       "      <td>15.64</td>\n",
       "      <td>15.97</td>\n",
       "      <td>242963398</td>\n",
       "      <td>-4.42849</td>\n",
       "      <td>1.380223</td>\n",
       "      <td>239655616.0</td>\n",
       "      <td>$16.19</td>\n",
       "      <td>$15.79</td>\n",
       "      <td>-2.470660</td>\n",
       "      <td>19</td>\n",
       "      <td>0.187852</td>\n",
       "    </tr>\n",
       "    <tr>\n",
       "      <th>2</th>\n",
       "      <td>1</td>\n",
       "      <td>AA</td>\n",
       "      <td>1/21/2011</td>\n",
       "      <td>16.19</td>\n",
       "      <td>16.38</td>\n",
       "      <td>15.60</td>\n",
       "      <td>15.79</td>\n",
       "      <td>138428495</td>\n",
       "      <td>-2.47066</td>\n",
       "      <td>-43.024959</td>\n",
       "      <td>242963398.0</td>\n",
       "      <td>$15.87</td>\n",
       "      <td>$16.13</td>\n",
       "      <td>1.638310</td>\n",
       "      <td>12</td>\n",
       "      <td>0.189994</td>\n",
       "    </tr>\n",
       "    <tr>\n",
       "      <th>3</th>\n",
       "      <td>1</td>\n",
       "      <td>AA</td>\n",
       "      <td>1/28/2011</td>\n",
       "      <td>15.87</td>\n",
       "      <td>16.63</td>\n",
       "      <td>15.82</td>\n",
       "      <td>16.13</td>\n",
       "      <td>151379173</td>\n",
       "      <td>1.63831</td>\n",
       "      <td>9.355500</td>\n",
       "      <td>138428495.0</td>\n",
       "      <td>$16.18</td>\n",
       "      <td>$17.14</td>\n",
       "      <td>5.933250</td>\n",
       "      <td>5</td>\n",
       "      <td>0.185989</td>\n",
       "    </tr>\n",
       "    <tr>\n",
       "      <th>4</th>\n",
       "      <td>1</td>\n",
       "      <td>AA</td>\n",
       "      <td>2/4/2011</td>\n",
       "      <td>16.18</td>\n",
       "      <td>17.39</td>\n",
       "      <td>16.18</td>\n",
       "      <td>17.14</td>\n",
       "      <td>154387761</td>\n",
       "      <td>5.93325</td>\n",
       "      <td>1.987452</td>\n",
       "      <td>151379173.0</td>\n",
       "      <td>$17.33</td>\n",
       "      <td>$17.37</td>\n",
       "      <td>0.230814</td>\n",
       "      <td>97</td>\n",
       "      <td>0.175029</td>\n",
       "    </tr>\n",
       "  </tbody>\n",
       "</table>\n",
       "</div>"
      ],
      "text/plain": [
       "   quarter stock       date   open   high    low  close     volume  \\\n",
       "0        1    AA   1/7/2011  15.82  16.72  15.78  16.42  239655616   \n",
       "1        1    AA  1/14/2011  16.71  16.71  15.64  15.97  242963398   \n",
       "2        1    AA  1/21/2011  16.19  16.38  15.60  15.79  138428495   \n",
       "3        1    AA  1/28/2011  15.87  16.63  15.82  16.13  151379173   \n",
       "4        1    AA   2/4/2011  16.18  17.39  16.18  17.14  154387761   \n",
       "\n",
       "   percent_change_price  percent_change_volume_over_last_wk  \\\n",
       "0               3.79267                                 NaN   \n",
       "1              -4.42849                            1.380223   \n",
       "2              -2.47066                          -43.024959   \n",
       "3               1.63831                            9.355500   \n",
       "4               5.93325                            1.987452   \n",
       "\n",
       "   previous_weeks_volume next_weeks_open next_weeks_close  \\\n",
       "0                    NaN          $16.71           $15.97   \n",
       "1            239655616.0          $16.19           $15.79   \n",
       "2            242963398.0          $15.87           $16.13   \n",
       "3            138428495.0          $16.18           $17.14   \n",
       "4            151379173.0          $17.33           $17.37   \n",
       "\n",
       "   percent_change_next_weeks_price  days_to_next_dividend  \\\n",
       "0                        -4.428490                     26   \n",
       "1                        -2.470660                     19   \n",
       "2                         1.638310                     12   \n",
       "3                         5.933250                      5   \n",
       "4                         0.230814                     97   \n",
       "\n",
       "   percent_return_next_dividend  \n",
       "0                      0.182704  \n",
       "1                      0.187852  \n",
       "2                      0.189994  \n",
       "3                      0.185989  \n",
       "4                      0.175029  "
      ]
     },
     "execution_count": 9,
     "metadata": {},
     "output_type": "execute_result"
    }
   ],
   "source": [
    "df.head()"
   ]
  },
  {
   "cell_type": "markdown",
   "metadata": {},
   "source": [
    "Ok, problem solved! The columns that we are gonna work with, are ‘volume’ and ‘percent_change_next_weeks_price’. I just randomly chose these two columns, you can choose yours! Let’s also see how many data points each column has:"
   ]
  },
  {
   "cell_type": "code",
   "execution_count": 10,
   "metadata": {},
   "outputs": [
    {
     "data": {
      "text/plain": [
       "(750, 16)"
      ]
     },
     "execution_count": 10,
     "metadata": {},
     "output_type": "execute_result"
    }
   ],
   "source": [
    "df.shape"
   ]
  },
  {
   "cell_type": "markdown",
   "metadata": {},
   "source": [
    "So each column contains 750 data points. Before fitting any distributions to our data, it’s wise to first plot a histogram of our data and visually observe it:"
   ]
  },
  {
   "cell_type": "code",
   "execution_count": 11,
   "metadata": {},
   "outputs": [
    {
     "data": {
      "image/png": "[encoded data removed]",
      "text/plain": [
       "<Figure size 432x288 with 1 Axes>"
      ]
     },
     "metadata": {
      "needs_background": "light"
     },
     "output_type": "display_data"
    }
   ],
   "source": [
    "plt.hist(df['volume'], bins=50)\n",
    "plt.show()"
   ]
  },
  {
   "cell_type": "markdown",
   "metadata": {},
   "source": [
    "Hmmm, doesn’t look at all like a normal distribution! now let’s also take a look at the column ‘percent_change_next_weeks_price’ :"
   ]
  },
  {
   "cell_type": "code",
   "execution_count": 12,
   "metadata": {},
   "outputs": [
    {
     "data": {
      "image/png": "[encoded data removed]",
      "text/plain": [
       "<Figure size 432x288 with 1 Axes>"
      ]
     },
     "metadata": {
      "needs_background": "light"
     },
     "output_type": "display_data"
    }
   ],
   "source": [
    "plt.hist(df['percent_change_next_weeks_price'], bins=50)\n",
    "plt.show()"
   ]
  },
  {
   "cell_type": "markdown",
   "metadata": {},
   "source": [
    "This one looks like a normal distribution. We just don’t know yet, we have to test it."
   ]
  },
  {
   "cell_type": "markdown",
   "metadata": {},
   "source": [
    "Before getting into distribution fitting, let’s review a simple handful of theories. There are a couple of methods to estimate parameters of a distribution based on your data. [Maximum Likelihood Estimation](https://en.wikipedia.org/wiki/Maximum_likelihood_estimation) (MLE), [Akaike information criterion](https://en.wikipedia.org/wiki/Akaike_information_criterion) (AIC), (Maximizing Bayesian Posterior Probability](https://en.wikipedia.org/wiki/Posterior_probability), etc. SciPy performs parameter estimation using MLE ([documentation](https://docs.scipy.org/doc/scipy/reference/generated/scipy.stats.rv_continuous.fit.html))."
   ]
  },
  {
   "cell_type": "markdown",
   "metadata": {},
   "source": [
    "When you fit a certain probability distribution to your data, you must then test the goodness of fit. Kolmogorov–Smirnov test is an option and the widely used one. Beware that this test has some limitations on which you can read more [here](https://www.itl.nist.gov/div898/handbook/eda/section3/eda35g.htm) (I sincerely urge you to do so). The test basically gives you a statistic and a p-value, that you have to interpret the results by looking at a K-S test table. We will talk about the interpretation of the test shortly in an example."
   ]
  },
  {
   "cell_type": "markdown",
   "metadata": {},
   "source": [
    "So let’s get back to our test data. We want to determine how well our column ‘percent_change_next_weeks_price’ fits a normal distribution (since we naively saw it looks like it’s normally distributed):"
   ]
  },
  {
   "cell_type": "code",
   "execution_count": 13,
   "metadata": {
    "tags": []
   },
   "outputs": [
    {
     "name": "stdout",
     "output_type": "stream",
     "text": [
      "(0.23846810386666667, 2.67775139226584)\n"
     ]
    }
   ],
   "source": [
    "dist = getattr(stats, 'norm')\n",
    "parameters = dist.fit(df['percent_change_next_weeks_price'])\n",
    "print(parameters)"
   ]
  },
  {
   "cell_type": "markdown",
   "metadata": {},
   "source": [
    "In first line, we get a scipy “normal” distbution object. We could have used the following syntax:\n",
    "```\n",
    "from scipy.stats import norm\n",
    "```\n",
    "but the first method is a little more flexible and allows the name of the function to be a string variable that we can take from a list (which we will see later).\n",
    "\n",
    "The second line, we fit the data to the normal distribution and get the parameters. Then we print the parameters. The first parameter (0.23846810386666667) is the mean of the fitted normal distribution and the second parameter (2.67775139226584) is standard deviation of our fitted distribution.\n",
    "Now let’s perform a Kolmogorov–Smirnov test and check the goodness of fit:"
   ]
  },
  {
   "cell_type": "code",
   "execution_count": 14,
   "metadata": {},
   "outputs": [
    {
     "name": "stdout",
     "output_type": "stream",
     "text": [
      "KstestResult(statistic=0.04591966870880479, pvalue=0.08200142569744828)\n"
     ]
    }
   ],
   "source": [
    "KstestResult = stats.kstest(df['percent_change_next_weeks_price'], \"norm\", parameters)\n",
    "print(KstestResult)"
   ]
  },
  {
   "cell_type": "markdown",
   "metadata": {},
   "source": [
    "Alright! now we have to interpret the result. We have to look at K-S table"
   ]
  },
  {
   "cell_type": "markdown",
   "metadata": {},
   "source": [
    "![](https://www.statisticshowto.com/wp-content/uploads/2016/07/k-s-test-table-p-value.png)"
   ]
  },
  {
   "cell_type": "markdown",
   "metadata": {},
   "source": [
    "Since our sample size contains more than 50 data points (750), we must look at the last row of the table. We want a significance level (α) of 0.05 , so we look at the last row of the third column. The critical value is $1.36/\\sqrt{n}$, if our p_value is more than the critical value then the distribution is a good fit."
   ]
  },
  {
   "cell_type": "code",
   "execution_count": 15,
   "metadata": {},
   "outputs": [
    {
     "name": "stdout",
     "output_type": "stream",
     "text": [
      "0.049660178547135066\n",
      "K-S test passed? True\n"
     ]
    }
   ],
   "source": [
    "p_critical = 1.36 / np.sqrt(df.shape[0])\n",
    "print(p_critical)\n",
    "print('K-S test passed?', KstestResult.pvalue > p_critical)"
   ]
  },
  {
   "cell_type": "markdown",
   "metadata": {},
   "source": [
    "Now let’s check the other column of our data, 'days_to_next_dividend'. We are not sure what kind of distribution to test for it. How about trying all distributions in SciPy and performing a K-S test on all fitted distributions?!\n",
    "SicPy has around [90 continuous distributions](https://docs.scipy.org/doc/scipy/reference/stats.html). We need to fit our data to all of these distributions and compare the results.\n"
   ]
  },
  {
   "cell_type": "code",
   "execution_count": 16,
   "metadata": {
    "tags": []
   },
   "outputs": [
    {
     "name": "stdout",
     "output_type": "stream",
     "text": [
      "0 alpha\n",
      "1 anglit\n",
      "2 arcsine\n",
      "3 beta\n",
      "4 betaprime\n",
      "5 bradford\n",
      "6 burr\n",
      "7 burr12\n",
      "8 cauchy\n",
      "9 chi\n",
      "10 chi2\n",
      "11 cosine\n",
      "12 dgamma\n",
      "13 dweibull\n",
      "14 erlang\n",
      "15 expon\n",
      "16 exponnorm\n",
      "17 exponweib\n",
      "18 exponpow\n",
      "19 f\n",
      "20 fatiguelife\n",
      "21 fisk\n",
      "22 foldcauchy\n",
      "23 foldnorm\n",
      "24 genlogistic\n",
      "25 genpareto\n",
      "26 gennorm\n",
      "27 genexpon\n",
      "28 genextreme\n",
      "29 gausshyper\n",
      "30 gamma\n",
      "31 gengamma\n",
      "32 genhalflogistic\n",
      "33 gilbrat\n",
      "34 gompertz\n",
      "35 gumbel_r\n",
      "36 gumbel_l\n",
      "37 halfcauchy\n",
      "38 halflogistic\n",
      "39 halfnorm\n",
      "40 halfgennorm\n",
      "41 hypsecant\n",
      "42 invgamma\n",
      "43 invgauss\n",
      "44 invweibull\n",
      "45 johnsonsb\n",
      "46 johnsonsu\n",
      "47 kstwobign\n",
      "48 laplace\n",
      "49 levy\n",
      "50 levy_l\n",
      "51 logistic\n",
      "52 loggamma\n",
      "53 loglaplace\n",
      "54 lognorm\n",
      "55 lomax\n",
      "56 maxwell\n",
      "57 mielke\n",
      "58 nakagami\n",
      "59 ncx2\n",
      "60 ncf\n",
      "61 nct\n",
      "62 norm\n",
      "63 pareto\n",
      "64 pearson3\n",
      "65 powerlaw\n",
      "66 powerlognorm\n",
      "67 powernorm\n",
      "68 rdist\n",
      "69 reciprocal\n",
      "70 rayleigh\n",
      "71 rice\n",
      "72 recipinvgauss\n",
      "73 semicircular\n",
      "74 t\n",
      "75 triang\n",
      "76 truncexpon\n",
      "77 truncnorm\n",
      "78 tukeylambda\n",
      "79 uniform\n",
      "80 vonmises\n",
      "81 vonmises_line\n",
      "82 wald\n",
      "83 weibull_min\n",
      "84 weibull_max\n"
     ]
    }
   ],
   "source": [
    "list_of_dists = ['alpha','anglit','arcsine','beta','betaprime','bradford','burr','burr12','cauchy','chi','chi2','cosine','dgamma','dweibull','erlang','expon','exponnorm','exponweib','exponpow','f','fatiguelife','fisk','foldcauchy','foldnorm','genlogistic','genpareto','gennorm','genexpon','genextreme','gausshyper','gamma','gengamma','genhalflogistic','gilbrat','gompertz','gumbel_r','gumbel_l','halfcauchy','halflogistic','halfnorm','halfgennorm','hypsecant','invgamma','invgauss','invweibull','johnsonsb','johnsonsu','kstwobign','laplace','levy','levy_l','logistic','loggamma','loglaplace','lognorm','lomax','maxwell','mielke','nakagami','ncx2','ncf','nct','norm','pareto','pearson3','powerlaw','powerlognorm','powernorm','rdist','reciprocal','rayleigh','rice','recipinvgauss','semicircular','t','triang','truncexpon','truncnorm','tukeylambda','uniform','vonmises','vonmises_line','wald','weibull_min','weibull_max']\n",
    "for i, dist in enumerate(list_of_dists):\n",
    "    print(i, dist)"
   ]
  },
  {
   "cell_type": "code",
   "execution_count": 17,
   "metadata": {},
   "outputs": [],
   "source": [
    "results = []\n",
    "for i in list_of_dists:\n",
    "    dist = getattr(stats, i)\n",
    "    param = dist.fit(df['days_to_next_dividend'])\n",
    "    a = stats.kstest(df['days_to_next_dividend'], i, args=param)\n",
    "    results.append((i,a[0],a[1]))"
   ]
  },
  {
   "cell_type": "code",
   "execution_count": 18,
   "metadata": {},
   "outputs": [
    {
     "name": "stdout",
     "output_type": "stream",
     "text": [
      "burr: statistic=0.07206041617283032, pvalue=0.0007843002018718868\n",
      "nct: statistic=0.07743071937243862, pvalue=0.0002337671625710444\n",
      "t: statistic=0.0824245075937091, pvalue=7.013967209355369e-05\n",
      "gumbel_r: statistic=0.08472730800082917, pvalue=3.924943608246669e-05\n",
      "genlogistic: statistic=0.0847632629053533, pvalue=3.889031723071558e-05\n",
      "tukeylambda: statistic=0.08731955488715097, pvalue=2.0029398658230086e-05\n",
      "dweibull: statistic=0.09120125869100783, pvalue=7.041007851335329e-06\n",
      "logistic: statistic=0.09161513900986966, pvalue=6.281361278521332e-06\n",
      "mielke: statistic=0.09184995607491231, pvalue=5.886042416442341e-06\n",
      "invweibull: statistic=0.092512576900039, pvalue=4.895189332577745e-06\n",
      "genextreme: statistic=0.09251304672500948, pvalue=4.894547269693242e-06\n",
      "betaprime: statistic=0.09322230972090284, pvalue=4.0121960409000576e-06\n",
      "invgamma: statistic=0.09331258058999026, pvalue=3.911532673684758e-06\n",
      "f: statistic=0.09384407988112708, pvalue=3.3663242852579776e-06\n",
      "hypsecant: statistic=0.09489457192046905, pvalue=2.4958166663317235e-06\n",
      "johnsonsb: statistic=0.09848606637612645, pvalue=8.74906330224402e-07\n",
      "gennorm: statistic=0.09890601122000103, pvalue=7.720029328460761e-07\n",
      "lognorm: statistic=0.09894432136526787, pvalue=7.632202309753864e-07\n",
      "johnsonsu: statistic=0.09894894933485254, pvalue=7.62165813435897e-07\n",
      "laplace: statistic=0.09923606344332923, pvalue=6.994319656296299e-07\n",
      "powerlognorm: statistic=0.10073786613793023, pvalue=4.4447463874008323e-07\n",
      "invgauss: statistic=0.10548142160949092, pvalue=1.0147613508783163e-07\n",
      "gengamma: statistic=0.10706840060339085, pvalue=6.096957886414557e-08\n",
      "fatiguelife: statistic=0.1074182497337508, pvalue=5.4436529556775044e-08\n",
      "exponweib: statistic=0.10794021288743261, pvalue=4.593574008564549e-08\n",
      "genexpon: statistic=0.10807534708608257, pvalue=4.3954268478668023e-08\n",
      "burr12: statistic=0.10844042538327237, pvalue=3.900726943702567e-08\n",
      "recipinvgauss: statistic=0.10850484829947205, pvalue=3.819237360355356e-08\n",
      "vonmises_line: statistic=0.11067485450334145, pvalue=1.861764413380435e-08\n",
      "exponnorm: statistic=0.11124168796836686, pvalue=1.5395216670637892e-08\n",
      "dgamma: statistic=0.11133837892381042, pvalue=1.4902658886590393e-08\n",
      "pearson3: statistic=0.11296841971897154, pvalue=8.576824627005639e-09\n",
      "halflogistic: statistic=0.11402556425274812, pvalue=5.9680978210771566e-09\n",
      "genhalflogistic: statistic=0.11417716794337152, pvalue=5.664074740209022e-09\n",
      "beta: statistic=0.11549084628945927, pvalue=3.5899828031761938e-09\n",
      "kstwobign: statistic=0.12570001645890505, pvalue=8.669349441881663e-11\n",
      "expon: statistic=0.13357460952486955, pvalue=3.944171490471727e-12\n",
      "cauchy: statistic=0.1362307603867069, pvalue=1.332388489390318e-12\n",
      "gompertz: statistic=0.13752965044041954, pvalue=7.775301272546504e-13\n",
      "nakagami: statistic=0.1402133055038679, pvalue=2.5135232102709056e-13\n",
      "ncx2: statistic=0.14037257466128117, pvalue=2.3489509305080285e-13\n",
      "maxwell: statistic=0.14446161731416673, pvalue=4.019849522341805e-14\n",
      "wald: statistic=0.1454935961209446, pvalue=2.5537755333862105e-14\n",
      "chi: statistic=0.14608060526264754, pvalue=1.9700311447886433e-14\n",
      "rayleigh: statistic=0.14763555355726066, pvalue=9.855525159976479e-15\n",
      "rice: statistic=0.14763557172490327, pvalue=9.855444977509891e-15\n",
      "foldnorm: statistic=0.1520130731525302, pvalue=1.3472693955784962e-15\n",
      "halfnorm: statistic=0.1520132202748199, pvalue=1.3471779521744352e-15\n",
      "gilbrat: statistic=0.15611107625208565, pvalue=1.981861264701796e-16\n",
      "norm: statistic=0.16343073016774512, pvalue=5.6758409934891545e-18\n",
      "rdist: statistic=0.16379836851308727, pvalue=4.727400943308779e-18\n",
      "loggamma: statistic=0.17317137381398395, pvalue=3.8757364722196464e-20\n",
      "exponpow: statistic=0.18015277918910622, pvalue=9.057005258629395e-22\n",
      "halfcauchy: statistic=0.22309665329849881, pvalue=2.839252501162634e-33\n",
      "halfgennorm: statistic=0.2393971810961106, pvalue=2.6091516166437166e-38\n",
      "gausshyper: statistic=0.2639572691787102, pvalue=1.3138819307030445e-46\n",
      "lomax: statistic=0.26731479410661096, pvalue=8.26478280154262e-48\n",
      "gumbel_l: statistic=0.30442804848591315, pvalue=3.521934499602536e-62\n",
      "pareto: statistic=0.31654059098303766, pvalue=2.611648541083365e-67\n",
      "levy: statistic=0.35640917314077547, pvalue=9.104783808481136e-86\n",
      "ncf: statistic=0.36581026584090026, pvalue=1.769207471682831e-90\n",
      "bradford: statistic=0.36698496614607923, pvalue=4.4590861198173874e-91\n",
      "powerlaw: statistic=0.42012448136756, pvalue=1.7068667872465992e-120\n",
      "cosine: statistic=0.444883771341283, pvalue=8.023900925600681e-136\n",
      "triang: statistic=0.4918753173735822, pvalue=6.204155100754371e-168\n",
      "anglit: statistic=0.5240880395391049, pvalue=2.2366548768211744e-192\n",
      "truncexpon: statistic=0.5437179544627948, pvalue=2.6265801023780247e-208\n",
      "fisk: statistic=0.563046242870067, pvalue=8.443386123563956e-225\n",
      "loglaplace: statistic=0.6017906976742388, pvalue=1.9536559145694412e-260\n",
      "levy_l: statistic=0.6088471023960105, pvalue=2.559866621713468e-267\n",
      "semicircular: statistic=0.6108050400332986, pvalue=2.9926123939894724e-269\n",
      "arcsine: statistic=0.6109801481593453, pvalue=2.0080180674509755e-269\n",
      "weibull_min: statistic=0.6504521614010129, pvalue=1.37658511937543e-310\n",
      "alpha: statistic=0.7088577743690577, pvalue=0.0\n",
      "chi2: statistic=0.8838521595197514, pvalue=0.0\n",
      "erlang: statistic=0.686807803303474, pvalue=0.0\n",
      "foldcauchy: statistic=0.6773902989920959, pvalue=0.0\n",
      "genpareto: statistic=0.6626238537169674, pvalue=0.0\n",
      "gamma: statistic=0.9673057712941063, pvalue=0.0\n",
      "powernorm: statistic=1.0, pvalue=0.0\n",
      "reciprocal: statistic=0.9906666666666667, pvalue=0.0\n",
      "truncnorm: statistic=0.9906666666666667, pvalue=0.0\n",
      "uniform: statistic=0.6854761904761906, pvalue=0.0\n",
      "vonmises: statistic=5.394634601700088e+27, pvalue=0.0\n",
      "weibull_max: statistic=0.84894196383394, pvalue=0.0\n"
     ]
    }
   ],
   "source": [
    "results.sort(key=lambda x:float(x[2]), reverse=True)\n",
    "for j in results:\n",
    "    print(\"{}: statistic={}, pvalue={}\".format(j[0], j[1], j[2]))"
   ]
  },
  {
   "cell_type": "raw",
   "metadata": {},
   "source": [
    "So let’s take a look at the code. the first line is defining a list that contains the names of almost all SciPy distributions (It contains 87 of them). Next, we define an empty list called results. Next, there is a loop. This loop takes each distribution one by one, fits it to the data, performs K-S test on it and records the result in the results list. Next, the results are sorted based on the highest p-value (Hence the lowest statistic), and they are printed. Now, with regard to the results, it seems the best fitted distribution for 'days_to_next_dividend' is the burr distribution."
   ]
  },
  {
   "cell_type": "markdown",
   "metadata": {},
   "source": [
    "# Assessment"
   ]
  },
  {
   "cell_type": "markdown",
   "metadata": {},
   "source": [
    "Using the distribution with the best fit plot the `days_to_next_dividend` data and also the probability density function for the distribution.\n",
    "Hints:\n",
    "* Read the documentation about the scipy stats distributions\n",
    "* Read the documentation about the matplotlib histogram function\n",
    "* Think about whether your data is normalized or not\n",
    "* Think about how best to present multiple different types of plot (histogram + line?) "
   ]
  },
  {
   "cell_type": "code",
   "execution_count": 20,
   "metadata": {},
   "outputs": [
    {
     "data": {
      "text/plain": [
       "Text(0, 0.5, 'Frequency')"
      ]
     },
     "execution_count": 20,
     "metadata": {},
     "output_type": "execute_result"
    },
    {
     "data": {
      "image/png": "[encoded data removed]",
      "text/plain": [
       "<Figure size 360x360 with 1 Axes>"
      ]
     },
     "metadata": {
      "needs_background": "light"
     },
     "output_type": "display_data"
    }
   ],
   "source": [
    "fig, ax = plt.subplots(figsize=(5, 5))\n",
    "ax.hist(df['days_to_next_dividend'], bins=25, density=True, label='data')\n",
    "dist = getattr(stats, 'burr')\n",
    "param = dist.fit(df['days_to_next_dividend'])\n",
    "distribution = dist(*param)\n",
    "start = distribution.ppf(0.01)\n",
    "end = distribution.ppf(0.99)\n",
    "x = np.linspace(start, end, 1001)\n",
    "y = distribution.pdf(x)\n",
    "ax.plot(x, y, label='pdf')\n",
    "ax.grid()\n",
    "ax.legend()\n",
    "ax.set_xlabel('days_to_next_dividend')\n",
    "ax.set_ylabel('Frequency')"
   ]
  },
  {
   "cell_type": "code",
   "execution_count": null,
   "metadata": {},
   "outputs": [],
   "source": []
  }
 ],
 "metadata": {
  "kernelspec": {
   "display_name": "Python 3 (ipykernel)",
   "language": "python",
   "name": "python3"
  },
  "language_info": {
   "codemirror_mode": {
    "name": "ipython",
    "version": 3
   },
   "file_extension": ".py",
   "mimetype": "text/x-python",
   "name": "python",
   "nbconvert_exporter": "python",
   "pygments_lexer": "ipython3",
   "version": "3.8.3"
  }
 },
 "nbformat": 4,
 "nbformat_minor": 4
}
