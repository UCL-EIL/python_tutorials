{
 "cells": [
  {
   "cell_type": "markdown",
   "id": "e4017150",
   "metadata": {},
   "source": [
    "# Assessment 1: Lists, Dicts and Arrays"
   ]
  },
  {
   "cell_type": "markdown",
   "id": "54b4d0eb",
   "metadata": {},
   "source": [
    "In Tutorial 1 we learned about some of the fundamental objects that you will use in Python. To reinforce this knowledge this assement will require you to make use of that knowledge, maybe by revisiting the example or doing some googling. Good luck"
   ]
  },
  {
   "cell_type": "code",
   "execution_count": 2,
   "id": "74961fa4",
   "metadata": {},
   "outputs": [],
   "source": [
    "list1 = [100, 200, 300, 400, 500]"
   ]
  },
  {
   "cell_type": "markdown",
   "id": "893238ce",
   "metadata": {},
   "source": [
    "Select and print all the items in the list:"
   ]
  },
  {
   "cell_type": "code",
   "execution_count": 3,
   "id": "389ae215",
   "metadata": {},
   "outputs": [
    {
     "data": {
      "text/plain": [
       "[100, 200, 300, 400, 500]"
      ]
     },
     "execution_count": 3,
     "metadata": {},
     "output_type": "execute_result"
    }
   ],
   "source": [
    "list1[:]"
   ]
  },
  {
   "cell_type": "markdown",
   "id": "7a8ea01f",
   "metadata": {},
   "source": [
    "Select and print all the items in the list in reverse order:"
   ]
  },
  {
   "cell_type": "code",
   "execution_count": 6,
   "id": "91fb1543",
   "metadata": {},
   "outputs": [
    {
     "data": {
      "text/plain": [
       "[500, 400, 300, 200, 100]"
      ]
     },
     "execution_count": 6,
     "metadata": {},
     "output_type": "execute_result"
    }
   ],
   "source": [
    "list1[::-1]"
   ]
  },
  {
   "cell_type": "markdown",
   "id": "62975853",
   "metadata": {},
   "source": [
    "How many items are in the list?"
   ]
  },
  {
   "cell_type": "code",
   "execution_count": 8,
   "id": "9df50e98",
   "metadata": {},
   "outputs": [
    {
     "data": {
      "text/plain": [
       "5"
      ]
     },
     "execution_count": 8,
     "metadata": {},
     "output_type": "execute_result"
    }
   ],
   "source": [
    "len(list1)"
   ]
  },
  {
   "cell_type": "markdown",
   "id": "af5d7857",
   "metadata": {},
   "source": [
    "Show all the items in the list except the first and last"
   ]
  },
  {
   "cell_type": "code",
   "execution_count": 10,
   "id": "e41f35ba",
   "metadata": {},
   "outputs": [
    {
     "data": {
      "text/plain": [
       "[200, 300, 400]"
      ]
     },
     "execution_count": 10,
     "metadata": {},
     "output_type": "execute_result"
    }
   ],
   "source": [
    "list1[1:-1]"
   ]
  },
  {
   "cell_type": "markdown",
   "id": "e82a8ba8",
   "metadata": {},
   "source": [
    "Multiply the list by 2"
   ]
  },
  {
   "cell_type": "code",
   "execution_count": 12,
   "id": "aec25ef3",
   "metadata": {},
   "outputs": [
    {
     "data": {
      "text/plain": [
       "[200, 400, 600, 800, 1000]"
      ]
     },
     "execution_count": 12,
     "metadata": {},
     "output_type": "execute_result"
    }
   ],
   "source": [
    "[2*l for l in list1]"
   ]
  },
  {
   "cell_type": "raw",
   "id": "8e59a6cb",
   "metadata": {},
   "source": [
    "Create and print an empty Dict called dict1"
   ]
  },
  {
   "cell_type": "code",
   "execution_count": 14,
   "id": "f34aa603",
   "metadata": {},
   "outputs": [
    {
     "name": "stdout",
     "output_type": "stream",
     "text": [
      "{}\n"
     ]
    }
   ],
   "source": [
    "dict1 = {}\n",
    "print(dict1)"
   ]
  },
  {
   "cell_type": "markdown",
   "id": "33ab9b84",
   "metadata": {},
   "source": [
    "add 3 items to the dict with keys 'a', 'b', 'c' and values 1, 2, 3"
   ]
  },
  {
   "cell_type": "code",
   "execution_count": 15,
   "id": "50a8c123",
   "metadata": {},
   "outputs": [],
   "source": [
    "dict1['a'] = 1\n",
    "dict1['b'] = 2\n",
    "dict1['c'] = 3"
   ]
  },
  {
   "cell_type": "markdown",
   "id": "897df797",
   "metadata": {},
   "source": [
    "show all the keys of the dict"
   ]
  },
  {
   "cell_type": "code",
   "execution_count": 16,
   "id": "de0f058e",
   "metadata": {},
   "outputs": [
    {
     "data": {
      "text/plain": [
       "dict_keys(['a', 'b', 'c'])"
      ]
     },
     "execution_count": 16,
     "metadata": {},
     "output_type": "execute_result"
    }
   ],
   "source": [
    "dict1.keys()"
   ]
  },
  {
   "cell_type": "markdown",
   "id": "ecd927e9",
   "metadata": {},
   "source": [
    "show all the values of the dict"
   ]
  },
  {
   "cell_type": "code",
   "execution_count": 17,
   "id": "947184c8",
   "metadata": {},
   "outputs": [
    {
     "data": {
      "text/plain": [
       "dict_values([1, 2, 3])"
      ]
     },
     "execution_count": 17,
     "metadata": {},
     "output_type": "execute_result"
    }
   ],
   "source": [
    "dict1.values()"
   ]
  },
  {
   "cell_type": "markdown",
   "id": "2507d033",
   "metadata": {},
   "source": [
    "Using a for loop multiply all the values by 2 and then print all the items of the dict"
   ]
  },
  {
   "cell_type": "code",
   "execution_count": 18,
   "id": "38c54cb0",
   "metadata": {},
   "outputs": [
    {
     "name": "stdout",
     "output_type": "stream",
     "text": [
      "dict_items([('a', 2), ('b', 4), ('c', 6)])\n"
     ]
    }
   ],
   "source": [
    "for key in dict1.keys():\n",
    "    dict1[key] *= 2\n",
    "print(dict1.items())"
   ]
  },
  {
   "cell_type": "markdown",
   "id": "584eb07c",
   "metadata": {},
   "source": [
    "import the numpy package and give it a namespace"
   ]
  },
  {
   "cell_type": "code",
   "execution_count": 19,
   "id": "cfed77c7",
   "metadata": {},
   "outputs": [],
   "source": [
    "import numpy as np"
   ]
  },
  {
   "cell_type": "markdown",
   "id": "313c398c",
   "metadata": {},
   "source": [
    "inspect the numpy `random.uniform` functio"
   ]
  },
  {
   "cell_type": "code",
   "execution_count": 21,
   "id": "2fe7f1de",
   "metadata": {},
   "outputs": [
    {
     "name": "stdout",
     "output_type": "stream",
     "text": [
      "Help on built-in function uniform:\n",
      "\n",
      "uniform(...) method of numpy.random.mtrand.RandomState instance\n",
      "    uniform(low=0.0, high=1.0, size=None)\n",
      "    \n",
      "    Draw samples from a uniform distribution.\n",
      "    \n",
      "    Samples are uniformly distributed over the half-open interval\n",
      "    ``[low, high)`` (includes low, but excludes high).  In other words,\n",
      "    any value within the given interval is equally likely to be drawn\n",
      "    by `uniform`.\n",
      "    \n",
      "    .. note::\n",
      "        New code should use the ``uniform`` method of a ``default_rng()``\n",
      "        instance instead; please see the :ref:`random-quick-start`.\n",
      "    \n",
      "    Parameters\n",
      "    ----------\n",
      "    low : float or array_like of floats, optional\n",
      "        Lower boundary of the output interval.  All values generated will be\n",
      "        greater than or equal to low.  The default value is 0.\n",
      "    high : float or array_like of floats\n",
      "        Upper boundary of the output interval.  All values generated will be\n",
      "        less than or equal to high.  The default value is 1.0.\n",
      "    size : int or tuple of ints, optional\n",
      "        Output shape.  If the given shape is, e.g., ``(m, n, k)``, then\n",
      "        ``m * n * k`` samples are drawn.  If size is ``None`` (default),\n",
      "        a single value is returned if ``low`` and ``high`` are both scalars.\n",
      "        Otherwise, ``np.broadcast(low, high).size`` samples are drawn.\n",
      "    \n",
      "    Returns\n",
      "    -------\n",
      "    out : ndarray or scalar\n",
      "        Drawn samples from the parameterized uniform distribution.\n",
      "    \n",
      "    See Also\n",
      "    --------\n",
      "    randint : Discrete uniform distribution, yielding integers.\n",
      "    random_integers : Discrete uniform distribution over the closed\n",
      "                      interval ``[low, high]``.\n",
      "    random_sample : Floats uniformly distributed over ``[0, 1)``.\n",
      "    random : Alias for `random_sample`.\n",
      "    rand : Convenience function that accepts dimensions as input, e.g.,\n",
      "           ``rand(2,2)`` would generate a 2-by-2 array of floats,\n",
      "           uniformly distributed over ``[0, 1)``.\n",
      "    Generator.uniform: which should be used for new code.\n",
      "    \n",
      "    Notes\n",
      "    -----\n",
      "    The probability density function of the uniform distribution is\n",
      "    \n",
      "    .. math:: p(x) = \\frac{1}{b - a}\n",
      "    \n",
      "    anywhere within the interval ``[a, b)``, and zero elsewhere.\n",
      "    \n",
      "    When ``high`` == ``low``, values of ``low`` will be returned.\n",
      "    If ``high`` < ``low``, the results are officially undefined\n",
      "    and may eventually raise an error, i.e. do not rely on this\n",
      "    function to behave when passed arguments satisfying that\n",
      "    inequality condition. The ``high`` limit may be included in the\n",
      "    returned array of floats due to floating-point rounding in the\n",
      "    equation ``low + (high-low) * random_sample()``. For example:\n",
      "    \n",
      "    >>> x = np.float32(5*0.99999999)\n",
      "    >>> x\n",
      "    5.0\n",
      "    \n",
      "    \n",
      "    Examples\n",
      "    --------\n",
      "    Draw samples from the distribution:\n",
      "    \n",
      "    >>> s = np.random.uniform(-1,0,1000)\n",
      "    \n",
      "    All values are within the given interval:\n",
      "    \n",
      "    >>> np.all(s >= -1)\n",
      "    True\n",
      "    >>> np.all(s < 0)\n",
      "    True\n",
      "    \n",
      "    Display the histogram of the samples, along with the\n",
      "    probability density function:\n",
      "    \n",
      "    >>> import matplotlib.pyplot as plt\n",
      "    >>> count, bins, ignored = plt.hist(s, 15, density=True)\n",
      "    >>> plt.plot(bins, np.ones_like(bins), linewidth=2, color='r')\n",
      "    >>> plt.show()\n",
      "\n"
     ]
    }
   ],
   "source": [
    "help(np.random.uniform)"
   ]
  },
  {
   "cell_type": "markdown",
   "id": "ea2c7ded",
   "metadata": {},
   "source": [
    "Create an array of 1000 random samples using the `random.uniform` function between the interval -1 and 0"
   ]
  },
  {
   "cell_type": "code",
   "execution_count": 24,
   "id": "80442ac3",
   "metadata": {},
   "outputs": [],
   "source": [
    "s = np.random.uniform(-1,0,1000)"
   ]
  },
  {
   "cell_type": "markdown",
   "id": "d7314ef6",
   "metadata": {},
   "source": [
    "Check that all the numbers are greater than or equal to -1 and less than 0"
   ]
  },
  {
   "cell_type": "code",
   "execution_count": 26,
   "id": "f68052e5",
   "metadata": {},
   "outputs": [
    {
     "data": {
      "text/plain": [
       "True"
      ]
     },
     "execution_count": 26,
     "metadata": {},
     "output_type": "execute_result"
    }
   ],
   "source": [
    "np.all(s >= -1) * np.all(s < 0)"
   ]
  },
  {
   "cell_type": "markdown",
   "id": "7a1b1174",
   "metadata": {},
   "source": [
    "Plot a histogram of the values"
   ]
  },
  {
   "cell_type": "code",
   "execution_count": 27,
   "id": "7974ed32",
   "metadata": {},
   "outputs": [
    {
     "data": {
      "text/plain": [
       "(array([78., 63., 61., 69., 76., 65., 69., 67., 74., 59., 65., 52., 61.,\n",
       "        73., 68.]),\n",
       " array([-9.99481430e-01, -9.32856162e-01, -8.66230894e-01, -7.99605625e-01,\n",
       "        -7.32980357e-01, -6.66355088e-01, -5.99729820e-01, -5.33104552e-01,\n",
       "        -4.66479283e-01, -3.99854015e-01, -3.33228746e-01, -2.66603478e-01,\n",
       "        -1.99978209e-01, -1.33352941e-01, -6.67276726e-02, -1.02404202e-04]),\n",
       " <BarContainer object of 15 artists>)"
      ]
     },
     "execution_count": 27,
     "metadata": {},
     "output_type": "execute_result"
    },
    {
     "data": {
      "image/png": "[encoded data removed]",
      "text/plain": [
       "<Figure size 432x288 with 1 Axes>"
      ]
     },
     "metadata": {
      "needs_background": "light"
     },
     "output_type": "display_data"
    }
   ],
   "source": [
    "import matplotlib.pyplot as plt\n",
    "plt.hist(s, 15)"
   ]
  },
  {
   "cell_type": "markdown",
   "id": "fd2d2ac3",
   "metadata": {},
   "source": [
    "Using the `random.random` function create a 2D array with 100 samples"
   ]
  },
  {
   "cell_type": "code",
   "execution_count": 30,
   "id": "6edb350a",
   "metadata": {},
   "outputs": [],
   "source": [
    "s2 = np.random.random([100, 2])"
   ]
  },
  {
   "cell_type": "code",
   "execution_count": 31,
   "id": "91da50f5",
   "metadata": {},
   "outputs": [
    {
     "data": {
      "text/plain": [
       "(100, 2)"
      ]
     },
     "execution_count": 31,
     "metadata": {},
     "output_type": "execute_result"
    }
   ],
   "source": [
    "s2.shape"
   ]
  },
  {
   "cell_type": "markdown",
   "id": "b3c530f7",
   "metadata": {},
   "source": [
    "Plot a scatter graph of the data"
   ]
  },
  {
   "cell_type": "code",
   "execution_count": 32,
   "id": "e9d3a900",
   "metadata": {},
   "outputs": [
    {
     "data": {
      "text/plain": [
       "<matplotlib.collections.PathCollection at 0x142a07e4670>"
      ]
     },
     "execution_count": 32,
     "metadata": {},
     "output_type": "execute_result"
    },
    {
     "data": {
      "image/png": "[encoded data removed]",
      "text/plain": [
       "<Figure size 432x288 with 1 Axes>"
      ]
     },
     "metadata": {
      "needs_background": "light"
     },
     "output_type": "display_data"
    }
   ],
   "source": [
    "plt.figure()\n",
    "plt.scatter(s2[:, 0], s2[:, 1])"
   ]
  },
  {
   "cell_type": "markdown",
   "id": "33d4eee9",
   "metadata": {},
   "source": [
    "Explore the matplotlib documentation to make the figure nicer, turn on the grid, make the aspect equal and figure size larger, also colour the points by x position"
   ]
  },
  {
   "cell_type": "code",
   "execution_count": 35,
   "id": "6bdad829",
   "metadata": {},
   "outputs": [
    {
     "data": {
      "image/png": "[encoded data removed]",
      "text/plain": [
       "<Figure size 720x720 with 1 Axes>"
      ]
     },
     "metadata": {
      "needs_background": "light"
     },
     "output_type": "display_data"
    }
   ],
   "source": [
    "x = s2[:, 0]\n",
    "y = s2[:, 1]\n",
    "plt.figure(figsize=(10, 10))\n",
    "plt.scatter(x, y, c=x)\n",
    "plt.grid()"
   ]
  },
  {
   "cell_type": "code",
   "execution_count": null,
   "id": "27f41176",
   "metadata": {},
   "outputs": [],
   "source": []
  }
 ],
 "metadata": {
  "kernelspec": {
   "display_name": "Python 3 (ipykernel)",
   "language": "python",
   "name": "python3"
  },
  "language_info": {
   "codemirror_mode": {
    "name": "ipython",
    "version": 3
   },
   "file_extension": ".py",
   "mimetype": "text/x-python",
   "name": "python",
   "nbconvert_exporter": "python",
   "pygments_lexer": "ipython3",
   "version": "3.8.3"
  }
 },
 "nbformat": 4,
 "nbformat_minor": 5
}
