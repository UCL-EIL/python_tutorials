{
 "cells": [
  {
   "cell_type": "markdown",
   "id": "e4017150",
   "metadata": {},
   "source": [
    "# Assessment 1: Lists, Dicts and Arrays"
   ]
  },
  {
   "cell_type": "markdown",
   "id": "54b4d0eb",
   "metadata": {},
   "source": [
    "In Tutorial 1 we learned about some of the fundamental objects that you will use in Python. To reinforce this knowledge this assement will require you to make use of that knowledge, maybe by revisiting the example or doing some googling. Good luck"
   ]
  },
  {
   "cell_type": "code",
   "execution_count": 1,
   "id": "74961fa4",
   "metadata": {},
   "outputs": [],
   "source": [
    "list1 = [100, 200, 300, 400, 500]"
   ]
  },
  {
   "cell_type": "markdown",
   "id": "893238ce",
   "metadata": {},
   "source": [
    "Select and print all the items in the list:"
   ]
  },
  {
   "cell_type": "code",
   "execution_count": null,
   "id": "389ae215",
   "metadata": {},
   "outputs": [],
   "source": []
  },
  {
   "cell_type": "markdown",
   "id": "7a8ea01f",
   "metadata": {},
   "source": [
    "Select and print all the items in the list in reverse order:"
   ]
  },
  {
   "cell_type": "code",
   "execution_count": null,
   "id": "91fb1543",
   "metadata": {},
   "outputs": [],
   "source": []
  },
  {
   "cell_type": "markdown",
   "id": "62975853",
   "metadata": {},
   "source": [
    "How many items are in the list?"
   ]
  },
  {
   "cell_type": "code",
   "execution_count": null,
   "id": "9df50e98",
   "metadata": {},
   "outputs": [],
   "source": []
  },
  {
   "cell_type": "markdown",
   "id": "af5d7857",
   "metadata": {},
   "source": [
    "Show all the items in the list except the first and last"
   ]
  },
  {
   "cell_type": "code",
   "execution_count": null,
   "id": "e41f35ba",
   "metadata": {},
   "outputs": [],
   "source": []
  },
  {
   "cell_type": "markdown",
   "id": "e82a8ba8",
   "metadata": {},
   "source": [
    "Multiply the list by 2"
   ]
  },
  {
   "cell_type": "code",
   "execution_count": null,
   "id": "aec25ef3",
   "metadata": {},
   "outputs": [],
   "source": []
  },
  {
   "cell_type": "markdown",
   "id": "3e5e78e5",
   "metadata": {},
   "source": [
    "Create and print an empty Dict called dict1"
   ]
  },
  {
   "cell_type": "code",
   "execution_count": null,
   "id": "f34aa603",
   "metadata": {},
   "outputs": [],
   "source": []
  },
  {
   "cell_type": "markdown",
   "id": "33ab9b84",
   "metadata": {},
   "source": [
    "add 3 items to the dict with keys 'a', 'b', 'c' and values 1, 2, 3"
   ]
  },
  {
   "cell_type": "code",
   "execution_count": null,
   "id": "50a8c123",
   "metadata": {},
   "outputs": [],
   "source": []
  },
  {
   "cell_type": "markdown",
   "id": "897df797",
   "metadata": {},
   "source": [
    "show all the keys of the dict"
   ]
  },
  {
   "cell_type": "code",
   "execution_count": null,
   "id": "de0f058e",
   "metadata": {},
   "outputs": [],
   "source": []
  },
  {
   "cell_type": "markdown",
   "id": "ecd927e9",
   "metadata": {},
   "source": [
    "show all the values of the dict"
   ]
  },
  {
   "cell_type": "code",
   "execution_count": null,
   "id": "947184c8",
   "metadata": {},
   "outputs": [],
   "source": []
  },
  {
   "cell_type": "markdown",
   "id": "2507d033",
   "metadata": {},
   "source": [
    "Using a for loop multiply all the values by 2 and then print all the items of the dict"
   ]
  },
  {
   "cell_type": "code",
   "execution_count": null,
   "id": "38c54cb0",
   "metadata": {},
   "outputs": [],
   "source": []
  },
  {
   "cell_type": "markdown",
   "id": "584eb07c",
   "metadata": {},
   "source": [
    "import the numpy package and give it a namespace"
   ]
  },
  {
   "cell_type": "code",
   "execution_count": null,
   "id": "cfed77c7",
   "metadata": {},
   "outputs": [],
   "source": []
  },
  {
   "cell_type": "markdown",
   "id": "313c398c",
   "metadata": {},
   "source": [
    "inspect the numpy `random.uniform` functio"
   ]
  },
  {
   "cell_type": "code",
   "execution_count": null,
   "id": "2fe7f1de",
   "metadata": {},
   "outputs": [],
   "source": []
  },
  {
   "cell_type": "markdown",
   "id": "ea2c7ded",
   "metadata": {},
   "source": [
    "Create an array of 1000 random samples using the `random.uniform` function between the interval -1 and 0"
   ]
  },
  {
   "cell_type": "code",
   "execution_count": null,
   "id": "80442ac3",
   "metadata": {},
   "outputs": [],
   "source": []
  },
  {
   "cell_type": "markdown",
   "id": "5fef07c0",
   "metadata": {},
   "source": [
    "Check that all the numbers are greater than or equal to -1 and less than 0"
   ]
  },
  {
   "cell_type": "code",
   "execution_count": null,
   "id": "f68052e5",
   "metadata": {},
   "outputs": [],
   "source": []
  },
  {
   "cell_type": "markdown",
   "id": "7a1b1174",
   "metadata": {},
   "source": [
    "Plot a histogram of the values"
   ]
  },
  {
   "cell_type": "code",
   "execution_count": null,
   "id": "7974ed32",
   "metadata": {},
   "outputs": [],
   "source": []
  },
  {
   "cell_type": "markdown",
   "id": "fd2d2ac3",
   "metadata": {},
   "source": [
    "Using the `random.random` function create a 2D array with 100 samples"
   ]
  },
  {
   "cell_type": "code",
   "execution_count": null,
   "id": "6edb350a",
   "metadata": {},
   "outputs": [],
   "source": []
  },
  {
   "cell_type": "markdown",
   "id": "b3c530f7",
   "metadata": {},
   "source": [
    "Plot a scatter graph of the data"
   ]
  },
  {
   "cell_type": "code",
   "execution_count": null,
   "id": "e9d3a900",
   "metadata": {},
   "outputs": [],
   "source": []
  },
  {
   "cell_type": "markdown",
   "id": "33d4eee9",
   "metadata": {},
   "source": [
    "Explore the matplotlib documentation to make the figure nicer, turn on the grid, make the aspect equal and figure size larger, also colour the points by x position"
   ]
  },
  {
   "cell_type": "code",
   "execution_count": null,
   "id": "6bdad829",
   "metadata": {},
   "outputs": [],
   "source": []
  }
 ],
 "metadata": {
  "kernelspec": {
   "display_name": "Python 3 (ipykernel)",
   "language": "python",
   "name": "python3"
  },
  "language_info": {
   "codemirror_mode": {
    "name": "ipython",
    "version": 3
   },
   "file_extension": ".py",
   "mimetype": "text/x-python",
   "name": "python",
   "nbconvert_exporter": "python",
   "pygments_lexer": "ipython3",
   "version": "3.8.3"
  }
 },
 "nbformat": 4,
 "nbformat_minor": 5
}
