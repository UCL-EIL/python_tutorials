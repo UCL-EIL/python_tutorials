{
 "cells": [
  {
   "cell_type": "markdown",
   "id": "d44655ad",
   "metadata": {},
   "source": [
    "# Maths problem"
   ]
  },
  {
   "cell_type": "markdown",
   "id": "892843d8",
   "metadata": {},
   "source": [
    "You need to replace each of the ? below with a + - / * operator. You can only use each operator once, you can’t change the order of the numbers, and you do each sum before moving on\n",
    "\n",
    "What’s the highest number you can make?\n"
   ]
  },
  {
   "cell_type": "markdown",
   "id": "38d0743d",
   "metadata": {},
   "source": [
    "First import the packages we nee"
   ]
  },
  {
   "cell_type": "code",
   "execution_count": 3,
   "id": "0041450c",
   "metadata": {},
   "outputs": [],
   "source": [
    "import numpy as np\n",
    "import itertools\n",
    "import time"
   ]
  },
  {
   "cell_type": "markdown",
   "id": "80de372a",
   "metadata": {},
   "source": [
    "Define an array containing the different operators that we can use. We will index into the array using different permutations. Also define the numbers of the problem which are constant in the example."
   ]
  },
  {
   "cell_type": "code",
   "execution_count": 4,
   "id": "85d13f1e",
   "metadata": {},
   "outputs": [],
   "source": [
    "ops = np.array([np.add, np.divide, np.multiply, np.subtract])\n",
    "prm = list(itertools.permutations(range(len(ops))))\n",
    "numbers = [8, 5, 2, 6, 3]"
   ]
  },
  {
   "cell_type": "markdown",
   "id": "820e09f7",
   "metadata": {},
   "source": [
    "Define a function that accepts the numbers and the operators as inputs, does the calculations successively and returns the answer."
   ]
  },
  {
   "cell_type": "code",
   "execution_count": 5,
   "id": "6143fe1b",
   "metadata": {},
   "outputs": [],
   "source": [
    "def op_successive(numbers, operators):\n",
    "    res = numbers[0]\n",
    "    for i, op in enumerate(operators):\n",
    "        res = op(res, numbers[i+1])\n",
    "    return res"
   ]
  },
  {
   "cell_type": "markdown",
   "id": "99975299",
   "metadata": {},
   "source": [
    "Display the number of permutations"
   ]
  },
  {
   "cell_type": "code",
   "execution_count": 6,
   "id": "6fd7f7b7",
   "metadata": {},
   "outputs": [
    {
     "name": "stdout",
     "output_type": "stream",
     "text": [
      "# permutations 24\n"
     ]
    }
   ],
   "source": [
    "N_perm = len(prm)\n",
    "print('# permutations', N_perm)"
   ]
  },
  {
   "cell_type": "markdown",
   "id": "84339bf4",
   "metadata": {},
   "source": [
    "Run a loop over all the permutations, storing the results and then find the best."
   ]
  },
  {
   "cell_type": "code",
   "execution_count": 7,
   "id": "eefcb349",
   "metadata": {},
   "outputs": [
    {
     "name": "stdout",
     "output_type": "stream",
     "text": [
      "[<ufunc 'add'> <ufunc 'true_divide'> <ufunc 'multiply'> <ufunc 'subtract'>] 36.0\n",
      "Simulation time 0.0009999275207519531\n"
     ]
    }
   ],
   "source": [
    "start = time.time()\n",
    "results = np.zeros(N_perm)\n",
    "for j in range(N_perm):\n",
    "    op_order = np.array(prm[j])\n",
    "    results[j] = op_successive(numbers, ops[op_order])\n",
    "\n",
    "best_prm = np.argmax(results)\n",
    "best_ops = np.array(prm[best_prm])\n",
    "print(ops[best_ops], results[best_prm])\n",
    "\n",
    "end = time.time()\n",
    "print('Simulation time', end-start)"
   ]
  },
  {
   "cell_type": "markdown",
   "id": "7eff3408",
   "metadata": {},
   "source": [
    "# Assessment"
   ]
  },
  {
   "cell_type": "markdown",
   "id": "f2052019",
   "metadata": {},
   "source": [
    "Create an interact_manual widget to pick numbers from a range of integers from 1 to 9 for each number in the puzzle and solve the problem displaying a histogram of the results.\n",
    "Hints:\n",
    "* Remember to import all the packages that you need\n",
    "* Convert the part of the algorithm that iterates through the permutations into a function\n",
    "* Make another function that accepts each number in the numbers list as an argument so that this can be used with the widgets\n",
    "* Combine the functions above together and use the results to make the plot all in one click of a button"
   ]
  }
 ],
 "metadata": {
  "kernelspec": {
   "display_name": "Python 3 (ipykernel)",
   "language": "python",
   "name": "python3"
  },
  "language_info": {
   "codemirror_mode": {
    "name": "ipython",
    "version": 3
   },
   "file_extension": ".py",
   "mimetype": "text/x-python",
   "name": "python",
   "nbconvert_exporter": "python",
   "pygments_lexer": "ipython3",
   "version": "3.8.3"
  }
 },
 "nbformat": 4,
 "nbformat_minor": 5
}
