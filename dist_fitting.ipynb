{
 "cells": [
  {
   "cell_type": "markdown",
   "metadata": {},
   "source": [
    "# Distribution Fitting with Python Scipy"
   ]
  },
  {
   "cell_type": "markdown",
   "metadata": {},
   "source": [
    "The following code is taken from an online [blog post](https://medium.com/@amirarsalan.rajabi/distribution-fitting-with-python-scipy-bb70a42c0aed) "
   ]
  },
  {
   "cell_type": "markdown",
   "metadata": {},
   "source": [
    "You have a datastet, a repeated measurement of a variable, and you want to know which probability distribution this variable might come from. Fitting your data to the right distribution is valuable and might give you some insight about it. SciPy is a Python library with many mathematical and statistical tools ready to be used and applied to your data."
   ]
  },
  {
   "cell_type": "markdown",
   "metadata": {},
   "source": [
    "In order to start the task, we take Dow Jones Index Data Set as an example which is publicly available [here](http://archive.ics.uci.edu/ml/datasets/Dow+Jones+Index). after downloading the dataset, you can import the data with Pandas:"
   ]
  },
  {
   "cell_type": "code",
   "execution_count": 1,
   "metadata": {},
   "outputs": [],
   "source": [
    "import pandas as pd \n",
    "import matplotlib.pyplot as plt \n",
    "from six.moves import urllib\n",
    "import zipfile\n",
    "from scipy import stats\n",
    "import numpy as np"
   ]
  },
  {
   "cell_type": "code",
   "execution_count": 2,
   "metadata": {},
   "outputs": [],
   "source": [
    "import warnings\n",
    "warnings.filterwarnings(\"ignore\")"
   ]
  },
  {
   "cell_type": "code",
   "execution_count": 3,
   "metadata": {},
   "outputs": [
    {
     "data": {
      "text/plain": [
       "('file.zip', <http.client.HTTPMessage at 0x1ed13c95400>)"
      ]
     },
     "execution_count": 3,
     "metadata": {},
     "output_type": "execute_result"
    }
   ],
   "source": [
    "urllib.request.urlretrieve(\"http://archive.ics.uci.edu/ml/machine-learning-databases/00312/dow_jones_index.zip\",\"file.zip\")"
   ]
  },
  {
   "cell_type": "code",
   "execution_count": 4,
   "metadata": {},
   "outputs": [],
   "source": [
    "zipfile.ZipFile(\"file.zip\").extractall()"
   ]
  },
  {
   "cell_type": "code",
   "execution_count": 5,
   "metadata": {},
   "outputs": [
    {
     "data": {
      "text/html": [
       "<div>\n",
       "<style scoped>\n",
       "    .dataframe tbody tr th:only-of-type {\n",
       "        vertical-align: middle;\n",
       "    }\n",
       "\n",
       "    .dataframe tbody tr th {\n",
       "        vertical-align: top;\n",
       "    }\n",
       "\n",
       "    .dataframe thead th {\n",
       "        text-align: right;\n",
       "    }\n",
       "</style>\n",
       "<table border=\"1\" class=\"dataframe\">\n",
       "  <thead>\n",
       "    <tr style=\"text-align: right;\">\n",
       "      <th></th>\n",
       "      <th>quarter</th>\n",
       "      <th>stock</th>\n",
       "      <th>date</th>\n",
       "      <th>open</th>\n",
       "      <th>high</th>\n",
       "      <th>low</th>\n",
       "      <th>close</th>\n",
       "      <th>volume</th>\n",
       "      <th>percent_change_price</th>\n",
       "      <th>percent_change_volume_over_last_wk</th>\n",
       "      <th>previous_weeks_volume</th>\n",
       "      <th>next_weeks_open</th>\n",
       "      <th>next_weeks_close</th>\n",
       "      <th>percent_change_next_weeks_price</th>\n",
       "      <th>days_to_next_dividend</th>\n",
       "      <th>percent_return_next_dividend</th>\n",
       "    </tr>\n",
       "  </thead>\n",
       "  <tbody>\n",
       "    <tr>\n",
       "      <th>0</th>\n",
       "      <td>1</td>\n",
       "      <td>AA</td>\n",
       "      <td>1/7/2011</td>\n",
       "      <td>$15.82</td>\n",
       "      <td>$16.72</td>\n",
       "      <td>$15.78</td>\n",
       "      <td>$16.42</td>\n",
       "      <td>239655616</td>\n",
       "      <td>3.79267</td>\n",
       "      <td>NaN</td>\n",
       "      <td>NaN</td>\n",
       "      <td>$16.71</td>\n",
       "      <td>$15.97</td>\n",
       "      <td>-4.428490</td>\n",
       "      <td>26</td>\n",
       "      <td>0.182704</td>\n",
       "    </tr>\n",
       "    <tr>\n",
       "      <th>1</th>\n",
       "      <td>1</td>\n",
       "      <td>AA</td>\n",
       "      <td>1/14/2011</td>\n",
       "      <td>$16.71</td>\n",
       "      <td>$16.71</td>\n",
       "      <td>$15.64</td>\n",
       "      <td>$15.97</td>\n",
       "      <td>242963398</td>\n",
       "      <td>-4.42849</td>\n",
       "      <td>1.380223</td>\n",
       "      <td>239655616.0</td>\n",
       "      <td>$16.19</td>\n",
       "      <td>$15.79</td>\n",
       "      <td>-2.470660</td>\n",
       "      <td>19</td>\n",
       "      <td>0.187852</td>\n",
       "    </tr>\n",
       "    <tr>\n",
       "      <th>2</th>\n",
       "      <td>1</td>\n",
       "      <td>AA</td>\n",
       "      <td>1/21/2011</td>\n",
       "      <td>$16.19</td>\n",
       "      <td>$16.38</td>\n",
       "      <td>$15.60</td>\n",
       "      <td>$15.79</td>\n",
       "      <td>138428495</td>\n",
       "      <td>-2.47066</td>\n",
       "      <td>-43.024959</td>\n",
       "      <td>242963398.0</td>\n",
       "      <td>$15.87</td>\n",
       "      <td>$16.13</td>\n",
       "      <td>1.638310</td>\n",
       "      <td>12</td>\n",
       "      <td>0.189994</td>\n",
       "    </tr>\n",
       "    <tr>\n",
       "      <th>3</th>\n",
       "      <td>1</td>\n",
       "      <td>AA</td>\n",
       "      <td>1/28/2011</td>\n",
       "      <td>$15.87</td>\n",
       "      <td>$16.63</td>\n",
       "      <td>$15.82</td>\n",
       "      <td>$16.13</td>\n",
       "      <td>151379173</td>\n",
       "      <td>1.63831</td>\n",
       "      <td>9.355500</td>\n",
       "      <td>138428495.0</td>\n",
       "      <td>$16.18</td>\n",
       "      <td>$17.14</td>\n",
       "      <td>5.933250</td>\n",
       "      <td>5</td>\n",
       "      <td>0.185989</td>\n",
       "    </tr>\n",
       "    <tr>\n",
       "      <th>4</th>\n",
       "      <td>1</td>\n",
       "      <td>AA</td>\n",
       "      <td>2/4/2011</td>\n",
       "      <td>$16.18</td>\n",
       "      <td>$17.39</td>\n",
       "      <td>$16.18</td>\n",
       "      <td>$17.14</td>\n",
       "      <td>154387761</td>\n",
       "      <td>5.93325</td>\n",
       "      <td>1.987452</td>\n",
       "      <td>151379173.0</td>\n",
       "      <td>$17.33</td>\n",
       "      <td>$17.37</td>\n",
       "      <td>0.230814</td>\n",
       "      <td>97</td>\n",
       "      <td>0.175029</td>\n",
       "    </tr>\n",
       "  </tbody>\n",
       "</table>\n",
       "</div>"
      ],
      "text/plain": [
       "   quarter stock       date    open    high     low   close     volume  \\\n",
       "0        1    AA   1/7/2011  $15.82  $16.72  $15.78  $16.42  239655616   \n",
       "1        1    AA  1/14/2011  $16.71  $16.71  $15.64  $15.97  242963398   \n",
       "2        1    AA  1/21/2011  $16.19  $16.38  $15.60  $15.79  138428495   \n",
       "3        1    AA  1/28/2011  $15.87  $16.63  $15.82  $16.13  151379173   \n",
       "4        1    AA   2/4/2011  $16.18  $17.39  $16.18  $17.14  154387761   \n",
       "\n",
       "   percent_change_price  percent_change_volume_over_last_wk  \\\n",
       "0               3.79267                                 NaN   \n",
       "1              -4.42849                            1.380223   \n",
       "2              -2.47066                          -43.024959   \n",
       "3               1.63831                            9.355500   \n",
       "4               5.93325                            1.987452   \n",
       "\n",
       "   previous_weeks_volume next_weeks_open next_weeks_close  \\\n",
       "0                    NaN          $16.71           $15.97   \n",
       "1            239655616.0          $16.19           $15.79   \n",
       "2            242963398.0          $15.87           $16.13   \n",
       "3            138428495.0          $16.18           $17.14   \n",
       "4            151379173.0          $17.33           $17.37   \n",
       "\n",
       "   percent_change_next_weeks_price  days_to_next_dividend  \\\n",
       "0                        -4.428490                     26   \n",
       "1                        -2.470660                     19   \n",
       "2                         1.638310                     12   \n",
       "3                         5.933250                      5   \n",
       "4                         0.230814                     97   \n",
       "\n",
       "   percent_return_next_dividend  \n",
       "0                      0.182704  \n",
       "1                      0.187852  \n",
       "2                      0.189994  \n",
       "3                      0.185989  \n",
       "4                      0.175029  "
      ]
     },
     "execution_count": 5,
     "metadata": {},
     "output_type": "execute_result"
    }
   ],
   "source": [
    "df = pd.read_csv(\"dow_jones_index.data\")\n",
    "df.head()"
   ]
  },
  {
   "cell_type": "markdown",
   "metadata": {},
   "source": [
    "This is a weekly dataset of Dow Jones Index. Those dollar signs are getting on my nerves, so I delete them by applying a function to my pandas columns:"
   ]
  },
  {
   "cell_type": "code",
   "execution_count": 6,
   "metadata": {},
   "outputs": [],
   "source": [
    "def omit_s(x):\n",
    "    return x[1:]\n",
    "df['high'] = df['high'].apply(omit_s)\n",
    "df['low'] = df['low'].apply(omit_s)\n",
    "df['open'] = df['open'].apply(omit_s)\n",
    "df['close'] = df['close'].apply(omit_s)"
   ]
  },
  {
   "cell_type": "code",
   "execution_count": 7,
   "metadata": {},
   "outputs": [
    {
     "data": {
      "text/html": [
       "<div>\n",
       "<style scoped>\n",
       "    .dataframe tbody tr th:only-of-type {\n",
       "        vertical-align: middle;\n",
       "    }\n",
       "\n",
       "    .dataframe tbody tr th {\n",
       "        vertical-align: top;\n",
       "    }\n",
       "\n",
       "    .dataframe thead th {\n",
       "        text-align: right;\n",
       "    }\n",
       "</style>\n",
       "<table border=\"1\" class=\"dataframe\">\n",
       "  <thead>\n",
       "    <tr style=\"text-align: right;\">\n",
       "      <th></th>\n",
       "      <th>quarter</th>\n",
       "      <th>stock</th>\n",
       "      <th>date</th>\n",
       "      <th>open</th>\n",
       "      <th>high</th>\n",
       "      <th>low</th>\n",
       "      <th>close</th>\n",
       "      <th>volume</th>\n",
       "      <th>percent_change_price</th>\n",
       "      <th>percent_change_volume_over_last_wk</th>\n",
       "      <th>previous_weeks_volume</th>\n",
       "      <th>next_weeks_open</th>\n",
       "      <th>next_weeks_close</th>\n",
       "      <th>percent_change_next_weeks_price</th>\n",
       "      <th>days_to_next_dividend</th>\n",
       "      <th>percent_return_next_dividend</th>\n",
       "    </tr>\n",
       "  </thead>\n",
       "  <tbody>\n",
       "    <tr>\n",
       "      <th>0</th>\n",
       "      <td>1</td>\n",
       "      <td>AA</td>\n",
       "      <td>1/7/2011</td>\n",
       "      <td>15.82</td>\n",
       "      <td>16.72</td>\n",
       "      <td>15.78</td>\n",
       "      <td>16.42</td>\n",
       "      <td>239655616</td>\n",
       "      <td>3.79267</td>\n",
       "      <td>NaN</td>\n",
       "      <td>NaN</td>\n",
       "      <td>$16.71</td>\n",
       "      <td>$15.97</td>\n",
       "      <td>-4.428490</td>\n",
       "      <td>26</td>\n",
       "      <td>0.182704</td>\n",
       "    </tr>\n",
       "    <tr>\n",
       "      <th>1</th>\n",
       "      <td>1</td>\n",
       "      <td>AA</td>\n",
       "      <td>1/14/2011</td>\n",
       "      <td>16.71</td>\n",
       "      <td>16.71</td>\n",
       "      <td>15.64</td>\n",
       "      <td>15.97</td>\n",
       "      <td>242963398</td>\n",
       "      <td>-4.42849</td>\n",
       "      <td>1.380223</td>\n",
       "      <td>239655616.0</td>\n",
       "      <td>$16.19</td>\n",
       "      <td>$15.79</td>\n",
       "      <td>-2.470660</td>\n",
       "      <td>19</td>\n",
       "      <td>0.187852</td>\n",
       "    </tr>\n",
       "    <tr>\n",
       "      <th>2</th>\n",
       "      <td>1</td>\n",
       "      <td>AA</td>\n",
       "      <td>1/21/2011</td>\n",
       "      <td>16.19</td>\n",
       "      <td>16.38</td>\n",
       "      <td>15.60</td>\n",
       "      <td>15.79</td>\n",
       "      <td>138428495</td>\n",
       "      <td>-2.47066</td>\n",
       "      <td>-43.024959</td>\n",
       "      <td>242963398.0</td>\n",
       "      <td>$15.87</td>\n",
       "      <td>$16.13</td>\n",
       "      <td>1.638310</td>\n",
       "      <td>12</td>\n",
       "      <td>0.189994</td>\n",
       "    </tr>\n",
       "    <tr>\n",
       "      <th>3</th>\n",
       "      <td>1</td>\n",
       "      <td>AA</td>\n",
       "      <td>1/28/2011</td>\n",
       "      <td>15.87</td>\n",
       "      <td>16.63</td>\n",
       "      <td>15.82</td>\n",
       "      <td>16.13</td>\n",
       "      <td>151379173</td>\n",
       "      <td>1.63831</td>\n",
       "      <td>9.355500</td>\n",
       "      <td>138428495.0</td>\n",
       "      <td>$16.18</td>\n",
       "      <td>$17.14</td>\n",
       "      <td>5.933250</td>\n",
       "      <td>5</td>\n",
       "      <td>0.185989</td>\n",
       "    </tr>\n",
       "    <tr>\n",
       "      <th>4</th>\n",
       "      <td>1</td>\n",
       "      <td>AA</td>\n",
       "      <td>2/4/2011</td>\n",
       "      <td>16.18</td>\n",
       "      <td>17.39</td>\n",
       "      <td>16.18</td>\n",
       "      <td>17.14</td>\n",
       "      <td>154387761</td>\n",
       "      <td>5.93325</td>\n",
       "      <td>1.987452</td>\n",
       "      <td>151379173.0</td>\n",
       "      <td>$17.33</td>\n",
       "      <td>$17.37</td>\n",
       "      <td>0.230814</td>\n",
       "      <td>97</td>\n",
       "      <td>0.175029</td>\n",
       "    </tr>\n",
       "  </tbody>\n",
       "</table>\n",
       "</div>"
      ],
      "text/plain": [
       "   quarter stock       date   open   high    low  close     volume  \\\n",
       "0        1    AA   1/7/2011  15.82  16.72  15.78  16.42  239655616   \n",
       "1        1    AA  1/14/2011  16.71  16.71  15.64  15.97  242963398   \n",
       "2        1    AA  1/21/2011  16.19  16.38  15.60  15.79  138428495   \n",
       "3        1    AA  1/28/2011  15.87  16.63  15.82  16.13  151379173   \n",
       "4        1    AA   2/4/2011  16.18  17.39  16.18  17.14  154387761   \n",
       "\n",
       "   percent_change_price  percent_change_volume_over_last_wk  \\\n",
       "0               3.79267                                 NaN   \n",
       "1              -4.42849                            1.380223   \n",
       "2              -2.47066                          -43.024959   \n",
       "3               1.63831                            9.355500   \n",
       "4               5.93325                            1.987452   \n",
       "\n",
       "   previous_weeks_volume next_weeks_open next_weeks_close  \\\n",
       "0                    NaN          $16.71           $15.97   \n",
       "1            239655616.0          $16.19           $15.79   \n",
       "2            242963398.0          $15.87           $16.13   \n",
       "3            138428495.0          $16.18           $17.14   \n",
       "4            151379173.0          $17.33           $17.37   \n",
       "\n",
       "   percent_change_next_weeks_price  days_to_next_dividend  \\\n",
       "0                        -4.428490                     26   \n",
       "1                        -2.470660                     19   \n",
       "2                         1.638310                     12   \n",
       "3                         5.933250                      5   \n",
       "4                         0.230814                     97   \n",
       "\n",
       "   percent_return_next_dividend  \n",
       "0                      0.182704  \n",
       "1                      0.187852  \n",
       "2                      0.189994  \n",
       "3                      0.185989  \n",
       "4                      0.175029  "
      ]
     },
     "execution_count": 7,
     "metadata": {},
     "output_type": "execute_result"
    }
   ],
   "source": [
    "df.head()"
   ]
  },
  {
   "cell_type": "markdown",
   "metadata": {},
   "source": [
    "Ok, problem solved! The columns that we are gonna work with, are ‘volume’ and ‘percent_change_next_weeks_price’. I just randomly chose these two columns, you can choose yours! Let’s also see how many data points each column has:"
   ]
  },
  {
   "cell_type": "code",
   "execution_count": 8,
   "metadata": {},
   "outputs": [
    {
     "data": {
      "text/plain": [
       "(750, 16)"
      ]
     },
     "execution_count": 8,
     "metadata": {},
     "output_type": "execute_result"
    }
   ],
   "source": [
    "df.shape"
   ]
  },
  {
   "cell_type": "markdown",
   "metadata": {},
   "source": [
    "So each column contains 750 data points. Before fitting any distributions to our data, it’s wise to first plot a histogram of our data and visually observe it:"
   ]
  },
  {
   "cell_type": "code",
   "execution_count": 9,
   "metadata": {},
   "outputs": [
    {
     "data": {
      "image/png": "[encoded data removed]",
      "text/plain": [
       "<Figure size 432x288 with 1 Axes>"
      ]
     },
     "metadata": {
      "needs_background": "light"
     },
     "output_type": "display_data"
    }
   ],
   "source": [
    "plt.hist(df['volume'], bins=50)\n",
    "plt.show()"
   ]
  },
  {
   "cell_type": "markdown",
   "metadata": {},
   "source": [
    "Hmmm, doesn’t look at all like a normal distribution! now let’s also take a look at the column ‘percent_change_next_weeks_price’ :"
   ]
  },
  {
   "cell_type": "code",
   "execution_count": 10,
   "metadata": {},
   "outputs": [
    {
     "data": {
      "image/png": "[encoded data removed]",
      "text/plain": [
       "<Figure size 432x288 with 1 Axes>"
      ]
     },
     "metadata": {
      "needs_background": "light"
     },
     "output_type": "display_data"
    }
   ],
   "source": [
    "plt.hist(df['percent_change_next_weeks_price'], bins=50)\n",
    "plt.show()"
   ]
  },
  {
   "cell_type": "markdown",
   "metadata": {},
   "source": [
    "This one looks like a normal distribution. We just don’t know yet, we have to test it."
   ]
  },
  {
   "cell_type": "markdown",
   "metadata": {},
   "source": [
    "Before getting into distribution fitting, let’s review a simple handful of theories. There are a couple of methods to estimate parameters of a distribution based on your data. [Maximum Likelihood Estimation](https://en.wikipedia.org/wiki/Maximum_likelihood_estimation) (MLE), [Akaike information criterion](https://en.wikipedia.org/wiki/Akaike_information_criterion) (AIC), (Maximizing Bayesian Posterior Probability](https://en.wikipedia.org/wiki/Posterior_probability), etc. SciPy performs parameter estimation using MLE ([documentation](https://docs.scipy.org/doc/scipy/reference/generated/scipy.stats.rv_continuous.fit.html))."
   ]
  },
  {
   "cell_type": "markdown",
   "metadata": {},
   "source": [
    "When you fit a certain probability distribution to your data, you must then test the goodness of fit. Kolmogorov–Smirnov test is an option and the widely used one. Beware that this test has some limitations on which you can read more [here](https://www.itl.nist.gov/div898/handbook/eda/section3/eda35g.htm) (I sincerely urge you to do so). The test basically gives you a statistic and a p-value, that you have to interpret the results by looking at a K-S test table. We will talk about the interpretation of the test shortly in an example."
   ]
  },
  {
   "cell_type": "markdown",
   "metadata": {},
   "source": [
    "So let’s get back to our test data. We want to determine how well our column ‘percent_change_next_weeks_price’ fits a normal distribution (since we naively saw it looks like it’s normally distributed):"
   ]
  },
  {
   "cell_type": "code",
   "execution_count": 11,
   "metadata": {
    "tags": []
   },
   "outputs": [
    {
     "name": "stdout",
     "output_type": "stream",
     "text": [
      "(0.23846810386666667, 2.67775139226584)\n"
     ]
    }
   ],
   "source": [
    "dist = getattr(stats, 'norm')\n",
    "parameters = dist.fit(df['percent_change_next_weeks_price'])\n",
    "print(parameters)"
   ]
  },
  {
   "cell_type": "markdown",
   "metadata": {},
   "source": [
    "In first line, we get a scipy “normal” distbution object. We could have used the following syntax:\n",
    "```\n",
    "from scipy.stats import norm\n",
    "```\n",
    "but the first method is a little more flexible and allows the name of the function to be a string variable that we can take from a list (which we will see later).\n",
    "\n",
    "The second line, we fit the data to the normal distribution and get the parameters. Then we print the parameters. The first parameter (0.23846810386666667) is the mean of the fitted normal distribution and the second parameter (2.67775139226584) is standard deviation of our fitted distribution.\n",
    "Now let’s perform a Kolmogorov–Smirnov test and check the goodness of fit:"
   ]
  },
  {
   "cell_type": "code",
   "execution_count": 12,
   "metadata": {},
   "outputs": [
    {
     "name": "stdout",
     "output_type": "stream",
     "text": [
      "KstestResult(statistic=0.04591966870880479, pvalue=0.08200142569744828)\n"
     ]
    }
   ],
   "source": [
    "KstestResult = stats.kstest(df['percent_change_next_weeks_price'], \"norm\", parameters)\n",
    "print(KstestResult)"
   ]
  },
  {
   "cell_type": "markdown",
   "metadata": {},
   "source": [
    "Alright! now we have to interpret the result. We have to look at K-S table"
   ]
  },
  {
   "cell_type": "markdown",
   "metadata": {},
   "source": [
    "![](https://www.statisticshowto.com/wp-content/uploads/2016/07/k-s-test-table-p-value.png)"
   ]
  },
  {
   "cell_type": "markdown",
   "metadata": {},
   "source": [
    "Since our sample size contains more than 50 data points (750), we must look at the last row of the table. We want a significance level (α) of 0.05 , so we look at the last row of the third column. The critical value is $1.36/\\sqrt{n}$, if our p_value is more than the critical value then the distribution is a good fit."
   ]
  },
  {
   "cell_type": "code",
   "execution_count": 13,
   "metadata": {},
   "outputs": [
    {
     "name": "stdout",
     "output_type": "stream",
     "text": [
      "0.049660178547135066\n",
      "K-S test passed? True\n"
     ]
    }
   ],
   "source": [
    "p_critical = 1.36 / np.sqrt(df.shape[0])\n",
    "print(p_critical)\n",
    "print('K-S test passed?', KstestResult.pvalue > p_critical)"
   ]
  },
  {
   "cell_type": "markdown",
   "metadata": {},
   "source": [
    "Now let’s check the other column of our data, ‘volume’. We are not sure what kind of distribution to test for it. How about trying all distributions in SciPy and performing a K-S test on all fitted distributions?!\n",
    "SicPy has around [90 continuous distributions](https://docs.scipy.org/doc/scipy/reference/stats.html). We need to fit our data to all of these distributions and compare the results.\n"
   ]
  },
  {
   "cell_type": "code",
   "execution_count": 14,
   "metadata": {
    "tags": []
   },
   "outputs": [
    {
     "name": "stdout",
     "output_type": "stream",
     "text": [
      "0 alpha\n",
      "1 anglit\n",
      "2 arcsine\n",
      "3 beta\n",
      "4 betaprime\n",
      "5 bradford\n",
      "6 burr\n",
      "7 burr12\n",
      "8 cauchy\n",
      "9 chi\n",
      "10 chi2\n",
      "11 cosine\n",
      "12 dgamma\n",
      "13 dweibull\n",
      "14 erlang\n",
      "15 expon\n",
      "16 exponnorm\n",
      "17 exponweib\n",
      "18 exponpow\n",
      "19 f\n",
      "20 fatiguelife\n",
      "21 fisk\n",
      "22 foldcauchy\n",
      "23 foldnorm\n",
      "24 frechet_r\n",
      "25 frechet_l\n",
      "26 genlogistic\n",
      "27 genpareto\n",
      "28 gennorm\n",
      "29 genexpon\n",
      "30 genextreme\n",
      "31 gausshyper\n",
      "32 gamma\n",
      "33 gengamma\n",
      "34 genhalflogistic\n",
      "35 gilbrat\n",
      "36 gompertz\n",
      "37 gumbel_r\n",
      "38 gumbel_l\n",
      "39 halfcauchy\n",
      "40 halflogistic\n",
      "41 halfnorm\n",
      "42 halfgennorm\n",
      "43 hypsecant\n",
      "44 invgamma\n",
      "45 invgauss\n",
      "46 invweibull\n",
      "47 johnsonsb\n",
      "48 johnsonsu\n",
      "49 kstwobign\n",
      "50 laplace\n",
      "51 levy\n",
      "52 levy_l\n",
      "53 logistic\n",
      "54 loggamma\n",
      "55 loglaplace\n",
      "56 lognorm\n",
      "57 lomax\n",
      "58 maxwell\n",
      "59 mielke\n",
      "60 nakagami\n",
      "61 ncx2\n",
      "62 ncf\n",
      "63 nct\n",
      "64 norm\n",
      "65 pareto\n",
      "66 pearson3\n",
      "67 powerlaw\n",
      "68 powerlognorm\n",
      "69 powernorm\n",
      "70 rdist\n",
      "71 reciprocal\n",
      "72 rayleigh\n",
      "73 rice\n",
      "74 recipinvgauss\n",
      "75 semicircular\n",
      "76 t\n",
      "77 triang\n",
      "78 truncexpon\n",
      "79 truncnorm\n",
      "80 tukeylambda\n",
      "81 uniform\n",
      "82 vonmises\n",
      "83 vonmises_line\n",
      "84 wald\n",
      "85 weibull_min\n",
      "86 weibull_max\n"
     ]
    }
   ],
   "source": [
    "list_of_dists = ['alpha','anglit','arcsine','beta','betaprime','bradford','burr','burr12','cauchy','chi','chi2','cosine','dgamma','dweibull','erlang','expon','exponnorm','exponweib','exponpow','f','fatiguelife','fisk','foldcauchy','foldnorm','frechet_r','frechet_l','genlogistic','genpareto','gennorm','genexpon','genextreme','gausshyper','gamma','gengamma','genhalflogistic','gilbrat','gompertz','gumbel_r','gumbel_l','halfcauchy','halflogistic','halfnorm','halfgennorm','hypsecant','invgamma','invgauss','invweibull','johnsonsb','johnsonsu','kstwobign','laplace','levy','levy_l','logistic','loggamma','loglaplace','lognorm','lomax','maxwell','mielke','nakagami','ncx2','ncf','nct','norm','pareto','pearson3','powerlaw','powerlognorm','powernorm','rdist','reciprocal','rayleigh','rice','recipinvgauss','semicircular','t','triang','truncexpon','truncnorm','tukeylambda','uniform','vonmises','vonmises_line','wald','weibull_min','weibull_max']\n",
    "for i, dist in enumerate(list_of_dists):\n",
    "    print(i, dist)"
   ]
  },
  {
   "cell_type": "code",
   "execution_count": 15,
   "metadata": {},
   "outputs": [],
   "source": [
    "results = []\n",
    "for i in list_of_dists:\n",
    "    dist = getattr(stats, i)\n",
    "    param = dist.fit(df['volume'])\n",
    "    a = stats.kstest(df['volume'], i, args=param)\n",
    "    results.append((i,a[0],a[1]))"
   ]
  },
  {
   "cell_type": "code",
   "execution_count": 16,
   "metadata": {},
   "outputs": [
    {
     "name": "stdout",
     "output_type": "stream",
     "text": [
      "halfcauchy: statistic=0.03887087256332211, pvalue=0.20183502014078858\n",
      "invgauss: statistic=0.03948353997389775, pvalue=0.18776786186101635\n",
      "johnsonsu: statistic=0.044185424938288254, pvalue=0.10378934071516199\n",
      "invweibull: statistic=0.050243977925688355, pvalue=0.04380226739344362\n",
      "mielke: statistic=nan, pvalue=nan\n",
      "powerlognorm: statistic=0.04519455411722639, pvalue=0.09059161698733775\n",
      "nct: statistic=0.04523016932936136, pvalue=0.09015275601704842\n",
      "exponweib: statistic=0.04706601157682333, pvalue=0.06982558027475971\n",
      "burr: statistic=0.050123926165586474, pvalue=0.04460536423750627\n",
      "lognorm: statistic=0.05103977355535111, pvalue=0.03878963721514517\n",
      "betaprime: statistic=0.05322033344188226, pvalue=0.02753260524176515\n",
      "invgamma: statistic=0.05332900790496364, pvalue=0.027056110286274082\n",
      "johnsonsb: statistic=0.05709637394745409, pvalue=0.014450279543746808\n",
      "f: statistic=0.05720236505041787, pvalue=0.014188756739448355\n",
      "alpha: statistic=0.05924967503868539, pvalue=0.009904869644000119\n",
      "gengamma: statistic=0.06969959041477569, pvalue=0.001299006776115702\n",
      "fisk: statistic=0.07102225334538315, pvalue=0.0009811687473233472\n",
      "fatiguelife: statistic=0.07452623701231043, pvalue=0.0004547811675276808\n",
      "halfgennorm: statistic=0.07799981182932636, pvalue=0.0002045769611551697\n",
      "genpareto: statistic=0.07990607637769986, pvalue=0.00012993415261158996\n",
      "gilbrat: statistic=0.0803729647639746, pvalue=0.00011606814735316378\n",
      "frechet_r: statistic=0.0843581538204049, pvalue=4.31241814690122e-05\n",
      "weibull_min: statistic=0.0843581538204049, pvalue=4.31241814690122e-05\n",
      "pearson3: statistic=0.08990977200403383, pvalue=1.0020719808508062e-05\n",
      "loglaplace: statistic=0.09458788462301415, pvalue=2.7245795611552887e-06\n",
      "foldcauchy: statistic=0.09693657317862849, pvalue=1.3818443965856015e-06\n",
      "wald: statistic=0.10868230173099164, pvalue=3.603233795786418e-08\n",
      "gausshyper: statistic=0.11107744325558594, pvalue=1.6268440660542962e-08\n",
      "recipinvgauss: statistic=0.11447971852172156, pvalue=5.101787471518495e-09\n",
      "exponpow: statistic=0.12639389441061855, pvalue=6.65350087633381e-11\n",
      "beta: statistic=0.13240844559549253, pvalue=6.3083137568833555e-12\n",
      "ncx2: statistic=0.13252178091938221, pvalue=6.027968395448153e-12\n",
      "chi2: statistic=0.13315768816944484, pvalue=4.667475633399719e-12\n",
      "lomax: statistic=0.13545842905988986, pvalue=1.8308367827704313e-12\n",
      "erlang: statistic=0.1528735020522845, pvalue=9.048122397216749e-16\n",
      "levy: statistic=0.15789280664771543, pvalue=8.47462975385995e-17\n",
      "chi: statistic=0.16116789151677013, pvalue=1.7328931642292813e-17\n",
      "gompertz: statistic=0.17271513277298273, pvalue=4.927891970696632e-20\n",
      "nakagami: statistic=0.1733952824967917, pvalue=3.443978086301837e-20\n",
      "expon: statistic=0.17812100286673732, pvalue=2.7453178544088514e-21\n",
      "genexpon: statistic=0.17812695599269363, pvalue=2.736463893377571e-21\n",
      "exponnorm: statistic=0.18338502992643935, pvalue=1.5108931931331434e-22\n",
      "gumbel_r: statistic=0.1977682314493801, pvalue=3.509308581922118e-26\n",
      "genlogistic: statistic=0.19779857299329018, pvalue=3.4455285372796315e-26\n",
      "cauchy: statistic=0.21822429494541862, pvalue=7.701459281414486e-32\n",
      "tukeylambda: statistic=0.2253329916493363, pvalue=6.084514763078247e-34\n",
      "pareto: statistic=0.22619596276560816, pvalue=3.343558861213655e-34\n",
      "logistic: statistic=0.2400109871748993, pvalue=1.6578451397665442e-38\n",
      "vonmises_line: statistic=0.2446991139478493, pvalue=4.985251071404778e-40\n",
      "rdist: statistic=0.24762759890017352, pvalue=5.385961028149865e-41\n",
      "norm: statistic=0.24792662071692761, pvalue=4.284493582633577e-41\n",
      "kstwobign: statistic=0.24929025550582307, pvalue=1.503697443917825e-41\n",
      "gennorm: statistic=0.2515618887833211, pvalue=2.592749517799175e-42\n",
      "hypsecant: statistic=0.25192788271009603, pvalue=1.95019996159596e-42\n",
      "halflogistic: statistic=0.25585065069662877, pvalue=8.963261975345923e-44\n",
      "maxwell: statistic=0.2628753418094071, pvalue=3.178485029667893e-46\n",
      "dweibull: statistic=0.265785922062494, pvalue=2.9259910013478836e-47\n",
      "loggamma: statistic=0.27092326182700094, pvalue=4.055299986242608e-49\n",
      "dgamma: statistic=0.2720422918327787, pvalue=1.5783554357439658e-49\n",
      "rayleigh: statistic=0.2826892783078568, pvalue=1.615271908534046e-53\n",
      "rice: statistic=0.2826892802002126, pvalue=1.6152692164923653e-53\n",
      "powerlaw: statistic=0.2956745153367806, pvalue=1.3127413751241068e-58\n",
      "laplace: statistic=0.3046154415345091, pvalue=2.9449918399385967e-62\n",
      "halfnorm: statistic=0.34762988456349986, pvalue=1.713830286381545e-81\n",
      "foldnorm: statistic=0.34763263382104836, pvalue=1.7086297843977572e-81\n",
      "bradford: statistic=0.3526947690771485, pvalue=6.060651046866125e-84\n",
      "cosine: statistic=0.37467787443158795, pvalue=4.734471938986255e-95\n",
      "genhalflogistic: statistic=0.38355123183059847, pvalue=9.41198676447313e-100\n",
      "gumbel_l: statistic=0.3907021554295661, pvalue=1.2358761365774274e-103\n",
      "anglit: statistic=0.4387286962241765, pvalue=6.523293737283325e-132\n",
      "truncexpon: statistic=0.504551202672731, pvalue=2.6252897237321e-177\n",
      "semicircular: statistic=0.5245714450936193, pvalue=9.266942327856735e-193\n",
      "burr12: statistic=0.5324773524699669, pvalue=4.366991155808697e-199\n",
      "t: statistic=0.5519273261232772, pvalue=3.268583937153755e-215\n",
      "triang: statistic=0.5898469480382343, pvalue=4.548499971977159e-249\n",
      "arcsine: statistic=0.6240036238233898, pvalue=1.5516305827008426e-282\n",
      "levy_l: statistic=0.6471608945208507, pvalue=5.469743762918032e-307\n",
      "frechet_l: statistic=0.8762057194530626, pvalue=0.0\n",
      "genextreme: statistic=0.718817446083239, pvalue=0.0\n",
      "gamma: statistic=0.9986666666666667, pvalue=0.0\n",
      "ncf: statistic=0.9997405227746027, pvalue=0.0\n",
      "powernorm: statistic=1.0, pvalue=0.0\n",
      "reciprocal: statistic=1.0, pvalue=0.0\n",
      "truncnorm: statistic=1.0, pvalue=0.0\n",
      "uniform: statistic=0.7136620561404029, pvalue=0.0\n",
      "vonmises: statistic=7.146842372255762e+28, pvalue=0.0\n",
      "weibull_max: statistic=0.8762057194530626, pvalue=0.0\n"
     ]
    }
   ],
   "source": [
    "results.sort(key=lambda x:float(x[2]), reverse=True)\n",
    "for j in results:\n",
    "    print(\"{}: statistic={}, pvalue={}\".format(j[0], j[1], j[2]))"
   ]
  },
  {
   "cell_type": "markdown",
   "metadata": {},
   "source": [
    "So let’s take a look at the code. the first line is defining a list that contains the names of almost all SciPy distributions (It contains 87 of them). Next, we define an empty list called results. Next, there is a loop. This loop takes each distribution one by one, fits it to the data, performs K-S test on it and records the result in the results list. Next, the results are sorted based on the highest p-value (Hence the lowest statistic), and they are printed. Now, with regard to the results, it seems the best fitted distribution is halfcauchy distribution, which is of the family of [heavy-tailed distributions](https://en.wikipedia.org/wiki/Heavy-tailed_distribution)."
   ]
  },
  {
   "cell_type": "markdown",
   "metadata": {},
   "source": [
    "# Homework"
   ]
  },
  {
   "cell_type": "markdown",
   "metadata": {},
   "source": [
    "Using the distribution with the best fit plot the 'volume' data and also the probability density function for the distribution.\n",
    "Hints:\n",
    "* Read the documentation about the scipy stats distributions\n",
    "* Read the documentation about the matplotlib histogram function\n",
    "* Think about whether your data is normalized or not\n",
    "* Think about how best to present multiple different types of plot (histogram + line?) "
   ]
  },
  {
   "cell_type": "code",
   "execution_count": 37,
   "metadata": {},
   "outputs": [
    {
     "data": {
      "text/plain": [
       "Text(0, 0.5, 'Frequency')"
      ]
     },
     "execution_count": 37,
     "metadata": {},
     "output_type": "execute_result"
    },
    {
     "data": {
      "image/png": "[encoded data removed]",
      "text/plain": [
       "<Figure size 720x720 with 1 Axes>"
      ]
     },
     "metadata": {
      "needs_background": "light"
     },
     "output_type": "display_data"
    }
   ],
   "source": [
    "fig, ax = plt.subplots(figsize=(10,10))\n",
    "ax.hist(df['volume'], bins=50, density=True, label='data')\n",
    "dist = getattr(stats, 'halfcauchy')\n",
    "param = dist.fit(df['volume'])\n",
    "distribution = dist(*param)\n",
    "start = distribution.ppf(0.01)\n",
    "end = distribution.ppf(0.99)\n",
    "x = np.linspace(start, end, 1001)\n",
    "y = distribution.pdf(x)\n",
    "ax.plot(x, y, label='pdf')\n",
    "ax.grid()\n",
    "ax.legend()\n",
    "ax.set_xlabel('Volume')\n",
    "ax.set_ylabel('Frequency')"
   ]
  }
 ],
 "metadata": {
  "kernelspec": {
   "display_name": "Python 3",
   "language": "python",
   "name": "python3"
  },
  "language_info": {
   "codemirror_mode": {
    "name": "ipython",
    "version": 3
   },
   "file_extension": ".py",
   "mimetype": "text/x-python",
   "name": "python",
   "nbconvert_exporter": "python",
   "pygments_lexer": "ipython3",
   "version": "3.8.3"
  }
 },
 "nbformat": 4,
 "nbformat_minor": 4
}
